{
 "cells": [
  {
   "cell_type": "markdown",
   "id": "8d25238a",
   "metadata": {},
   "source": [
    "# Introdução a Classes (Python)"
   ]
  },
  {
   "cell_type": "code",
   "execution_count": 1,
   "id": "d87ad95f",
   "metadata": {},
   "outputs": [
    {
     "name": "stdout",
     "output_type": "stream",
     "text": [
      "Nome: João, Idade: 20, Média: 7.5\n"
     ]
    }
   ],
   "source": [
    "class Aluno:\n",
    "    def __init__(self, nome, idade, media):\n",
    "        self.nome = nome\n",
    "        self.idade = idade\n",
    "        self.media = media\n",
    "\n",
    "    \n",
    "criar = Aluno(\"João\", 20, 7.5)\n",
    "print(f'Nome: {criar.nome}, Idade: {criar.idade}, Média: {criar.media}')"
   ]
  }
 ],
 "metadata": {
  "kernelspec": {
   "display_name": "Python 3",
   "language": "python",
   "name": "python3"
  },
  "language_info": {
   "codemirror_mode": {
    "name": "ipython",
    "version": 3
   },
   "file_extension": ".py",
   "mimetype": "text/x-python",
   "name": "python",
   "nbconvert_exporter": "python",
   "pygments_lexer": "ipython3",
   "version": "3.13.2"
  }
 },
 "nbformat": 4,
 "nbformat_minor": 5
}
