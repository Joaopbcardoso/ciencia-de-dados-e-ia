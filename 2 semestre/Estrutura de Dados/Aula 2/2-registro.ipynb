{
 "cells": [
  {
   "cell_type": "markdown",
   "id": "000c7ab3",
   "metadata": {},
   "source": [
    "# Registros em Python"
   ]
  },
  {
   "cell_type": "code",
   "execution_count": 3,
   "id": "d83ab510",
   "metadata": {},
   "outputs": [],
   "source": [
    "from dataclasses import dataclass"
   ]
  },
  {
   "cell_type": "code",
   "execution_count": 4,
   "id": "7691381d",
   "metadata": {},
   "outputs": [],
   "source": [
    "@dataclass\n",
    "class Aluno:\n",
    "    nome: str\n",
    "    idade: int\n",
    "    media: float"
   ]
  },
  {
   "cell_type": "code",
   "execution_count": 9,
   "id": "905e341a",
   "metadata": {},
   "outputs": [
    {
     "name": "stdout",
     "output_type": "stream",
     "text": [
      "Nome: João, Idade: 20, Média: 7.5\n",
      "Nome: João, Idade: 20, Média: 8.0\n"
     ]
    }
   ],
   "source": [
    "criar = Aluno(nome=\"João\", idade=20, media=7.5)\n",
    "print(f'Nome: {criar.nome}, Idade: {criar.idade}, Média: {criar.media}')\n",
    "criar.media = 8.0\n",
    "print(f'Nome: {criar.nome}, Idade: {criar.idade}, Média: {criar.media}')\n"
   ]
  }
 ],
 "metadata": {
  "kernelspec": {
   "display_name": "Python 3",
   "language": "python",
   "name": "python3"
  },
  "language_info": {
   "codemirror_mode": {
    "name": "ipython",
    "version": 3
   },
   "file_extension": ".py",
   "mimetype": "text/x-python",
   "name": "python",
   "nbconvert_exporter": "python",
   "pygments_lexer": "ipython3",
   "version": "3.13.2"
  }
 },
 "nbformat": 4,
 "nbformat_minor": 5
}
