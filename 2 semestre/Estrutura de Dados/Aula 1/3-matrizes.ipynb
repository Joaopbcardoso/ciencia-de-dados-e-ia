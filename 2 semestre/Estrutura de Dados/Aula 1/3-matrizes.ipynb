{
 "cells": [
  {
   "cell_type": "markdown",
   "id": "31d30992",
   "metadata": {},
   "source": [
    "# Matrizes em Python"
   ]
  },
  {
   "cell_type": "code",
   "execution_count": null,
   "id": "c505b7c8",
   "metadata": {},
   "outputs": [],
   "source": [
    "matriz = [[1,2,3], [4,5,6], [7,8,9]]"
   ]
  }
 ],
 "metadata": {
  "language_info": {
   "name": "python"
  }
 },
 "nbformat": 4,
 "nbformat_minor": 5
}
