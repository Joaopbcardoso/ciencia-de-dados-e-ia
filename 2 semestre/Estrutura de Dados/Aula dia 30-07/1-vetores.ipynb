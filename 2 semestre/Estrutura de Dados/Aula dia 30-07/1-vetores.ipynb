{
 "cells": [
  {
   "cell_type": "markdown",
   "id": "d5aca168",
   "metadata": {},
   "source": [
    "# Vetores em Python"
   ]
  },
  {
   "cell_type": "code",
   "execution_count": 3,
   "metadata": {},
   "outputs": [
    {
     "name": "stdout",
     "output_type": "stream",
     "text": [
      "[7.5, 8.0, 6.5]\n"
     ]
    }
   ],
   "source": [
    "notas = [7.5, 8.0, 6.5]\n",
    "print(notas)"
   ]
  },
  {
   "cell_type": "code",
   "execution_count": 4,
   "id": "76ac8d08",
   "metadata": {},
   "outputs": [
    {
     "name": "stdout",
     "output_type": "stream",
     "text": [
      "[7.5, 8.0, 6.5, 9.0]\n"
     ]
    }
   ],
   "source": [
    "notas.append(9.0)\n",
    "print(notas)"
   ]
  },
  {
   "cell_type": "code",
   "execution_count": 5,
   "id": "e8637b63",
   "metadata": {},
   "outputs": [
    {
     "name": "stdout",
     "output_type": "stream",
     "text": [
      "7.5\n",
      "8.0\n",
      "6.5\n",
      "9.0\n"
     ]
    }
   ],
   "source": [
    "for valor in notas:\n",
    "    print(valor)"
   ]
  }
 ],
 "metadata": {
  "kernelspec": {
   "display_name": "Python 3",
   "language": "python",
   "name": "python3"
  },
  "language_info": {
   "codemirror_mode": {
    "name": "ipython",
    "version": 3
   },
   "file_extension": ".py",
   "mimetype": "text/x-python",
   "name": "python",
   "nbconvert_exporter": "python",
   "pygments_lexer": "ipython3",
   "version": "3.13.0"
  }
 },
 "nbformat": 4,
 "nbformat_minor": 5
}
