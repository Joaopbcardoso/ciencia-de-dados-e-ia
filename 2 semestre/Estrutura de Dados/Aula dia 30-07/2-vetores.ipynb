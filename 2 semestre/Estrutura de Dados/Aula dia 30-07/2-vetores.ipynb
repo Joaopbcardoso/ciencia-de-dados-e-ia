{
 "cells": [
  {
   "cell_type": "code",
   "execution_count": 1,
   "id": "c0fb5c75",
   "metadata": {},
   "outputs": [
    {
     "name": "stdout",
     "output_type": "stream",
     "text": [
      "Notas registradas: [8.5, 7.0, 9.0, 6.5, 8.0, 10.0, 6.0]\n"
     ]
    }
   ],
   "source": [
    "notas = [8.5, 7.0, 9.0, 6.5, 8.0]\n",
    "nota = 0\n",
    "\n",
    "while nota != -1:\n",
    "    nota = float(input(\"Digite uma nota entre 0 e 10 (-1 para sair): \"))\n",
    "    if nota != -1:\n",
    "        notas.append(nota)\n",
    "\n",
    "print(\"Notas registradas:\", notas)"
   ]
  }
 ],
 "metadata": {
  "kernelspec": {
   "display_name": "Python 3",
   "language": "python",
   "name": "python3"
  },
  "language_info": {
   "codemirror_mode": {
    "name": "ipython",
    "version": 3
   },
   "file_extension": ".py",
   "mimetype": "text/x-python",
   "name": "python",
   "nbconvert_exporter": "python",
   "pygments_lexer": "ipython3",
   "version": "3.13.0"
  }
 },
 "nbformat": 4,
 "nbformat_minor": 5
}
