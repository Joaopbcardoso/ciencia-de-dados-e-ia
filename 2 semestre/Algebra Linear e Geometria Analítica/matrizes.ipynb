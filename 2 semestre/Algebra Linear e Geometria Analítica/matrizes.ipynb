{
 "cells": [
  {
   "cell_type": "markdown",
   "id": "2237b2ca",
   "metadata": {},
   "source": [
    "# Calculo de Matrizes"
   ]
  },
  {
   "cell_type": "markdown",
   "id": "a049f18c",
   "metadata": {},
   "source": [
    "## Soma de Matrizes"
   ]
  },
  {
   "cell_type": "code",
   "execution_count": 2,
   "id": "fe2e839b",
   "metadata": {},
   "outputs": [
    {
     "ename": "ValueError",
     "evalue": "invalid literal for int() with base 10: ''",
     "output_type": "error",
     "traceback": [
      "\u001b[31m---------------------------------------------------------------------------\u001b[39m",
      "\u001b[31mValueError\u001b[39m                                Traceback (most recent call last)",
      "\u001b[36mCell\u001b[39m\u001b[36m \u001b[39m\u001b[32mIn[2]\u001b[39m\u001b[32m, line 1\u001b[39m\n\u001b[32m----> \u001b[39m\u001b[32m1\u001b[39m linhas = \u001b[38;5;28;43mint\u001b[39;49m\u001b[43m(\u001b[49m\u001b[38;5;28;43minput\u001b[39;49m\u001b[43m(\u001b[49m\u001b[33;43m\"\u001b[39;49m\u001b[33;43mDigite o número de linhas das matrizes\u001b[39;49m\u001b[33;43m\"\u001b[39;49m\u001b[43m)\u001b[49m\u001b[43m)\u001b[49m\n\u001b[32m      2\u001b[39m colunas = \u001b[38;5;28mint\u001b[39m(\u001b[38;5;28minput\u001b[39m(\u001b[33m\"\u001b[39m\u001b[33mDigite o número de colunas das matrizes\u001b[39m\u001b[33m\"\u001b[39m))\n\u001b[32m      4\u001b[39m A = []\n",
      "\u001b[31mValueError\u001b[39m: invalid literal for int() with base 10: ''"
     ]
    }
   ],
   "source": [
    "linhas = int(input(\"Digite o número de linhas das matrizes\"))\n",
    "colunas = int(input(\"Digite o número de colunas das matrizes\"))\n",
    "\n",
    "A = []\n",
    "B = []\n",
    "C = []\n",
    "\n",
    "for i in range(linhas):\n",
    "    linha = []\n",
    "    for j in range(colunas):\n",
    "        elemento = int(input(f\"Digite o valor de a{i+1}{j+1}\"))\n",
    "        linha.append(elemento) \n",
    "    A.append(linha)\n",
    "\n",
    "for i in range(linhas):\n",
    "    linha = []\n",
    "    for j in range(colunas):\n",
    "        elemento = int(input(f\"Digite o valor de b{i+1}{j+1}\"))\n",
    "        linha.append(elemento) \n",
    "    B.append(linha)\n",
    "\n",
    "for i in range(linhas):\n",
    "    linha = []\n",
    "    for j in range(colunas):\n",
    "        elemento = A[i][j] + B[i][j]\n",
    "        linha.append(elemento) \n",
    "    C.append(linha)\n",
    "\n",
    "def imprimir_matriz(M, nome):\n",
    "    print(f\"Matriz {nome}\")\n",
    "    for linha in M:\n",
    "        for elemento in linha:\n",
    "            print(f\"{elemento:2}\", end=\" \")  \n",
    "        print() \n",
    "\n",
    "# Exibe resultados\n",
    "imprimir_matriz(A, \"A\")\n",
    "imprimir_matriz(B, \"B\")\n",
    "imprimir_matriz(C, \"C = A + B\")"
   ]
  },
  {
   "cell_type": "markdown",
   "id": "25dedf84",
   "metadata": {},
   "source": [
    "## Subtração de Matrizes"
   ]
  },
  {
   "cell_type": "code",
   "execution_count": null,
   "id": "de0d4519",
   "metadata": {},
   "outputs": [
    {
     "name": "stdout",
     "output_type": "stream",
     "text": [
      "\n",
      "Matriz A:\n",
      "    2     2 \n",
      "    2     2 \n",
      "\n",
      "Matriz B:\n",
      "    1     1 \n",
      "    1     1 \n",
      "\n",
      "Matriz C = A - B:\n",
      "    1     1 \n",
      "    1     1 \n"
     ]
    }
   ],
   "source": [
    "linhas = int(input(\"Digite o número de linhas das matrizes\"))\n",
    "colunas = int(input(\"Digite o número de colunas das matrizes\"))\n",
    "\n",
    "A = []\n",
    "B = []\n",
    "C = []\n",
    "\n",
    "for i in range(linhas):\n",
    "    linha = []\n",
    "    for j in range(colunas):\n",
    "        elemento = int(input(f\"Digite o valor de a{i+1}{j+1}\"))\n",
    "        linha.append(elemento) \n",
    "    A.append(linha)\n",
    "\n",
    "for i in range(linhas):\n",
    "    linha = []\n",
    "    for j in range(colunas):\n",
    "        elemento = int(input(f\"Digite o valor de b{i+1}{j+1}\"))\n",
    "        linha.append(elemento) \n",
    "    B.append(linha)\n",
    "\n",
    "for i in range(linhas):\n",
    "    linha = []\n",
    "    for j in range(colunas):\n",
    "        elemento = A[i][j] - B[i][j]\n",
    "        linha.append(elemento)\n",
    "    C.append(linha)\n",
    "\n",
    "def imprimir_matriz(M, nome):\n",
    "    print(f\"\\nMatriz {nome}:\")\n",
    "    for linha in M:\n",
    "        for elemento in linha:\n",
    "            print(f\"{elemento:2}\", end=\" \")\n",
    "        print()\n",
    "\n",
    "# Exibe resultados\n",
    "imprimir_matriz(A, \"A\")\n",
    "imprimir_matriz(B, \"B\")\n",
    "imprimir_matriz(C, \"C = A - B\")"
   ]
  },
  {
   "cell_type": "markdown",
   "id": "a1e8aaad",
   "metadata": {},
   "source": [
    "## Multiplicação de Matrizes"
   ]
  },
  {
   "cell_type": "code",
   "execution_count": 10,
   "id": "bff6308c",
   "metadata": {},
   "outputs": [
    {
     "name": "stdout",
     "output_type": "stream",
     "text": [
      "\n",
      "Matriz A:\n",
      "    2     5     7 \n",
      "    6     8    10 \n",
      "   11    13    15 \n",
      "   18    20    22 \n",
      "\n",
      "Matriz B:\n",
      "   -3    -1     1 \n",
      "   -8    -6    -4 \n",
      "  -13   -11    -9 \n",
      "\n",
      "Matriz C = A x B:\n",
      " -137  -109   -81 \n",
      " -212  -164  -116 \n",
      " -332  -254  -176 \n",
      " -500  -380  -260 \n"
     ]
    }
   ],
   "source": [
    "i1 = int(input(\"Quantas linhas tem a primeira matriz?\"))\n",
    "j1 = int(input(\"Quantas Colunas tem a primeira matriz\"))\n",
    "i2 = int(input(\"Quantas linhas tem a segunda matriz?\"))\n",
    "j2 = int(input(\"Quantas Colunas tem a segunda matriz\"))\n",
    "\n",
    "A = []\n",
    "B = []\n",
    "C = []\n",
    "\n",
    "\n",
    "if j1 != i2:\n",
    "    print(\"Sem solução!\")\n",
    "else:\n",
    "    for i in range(i1):\n",
    "        linha = []\n",
    "        for j in range(j1):\n",
    "            elemento = int(input(f\"Qual o valor do elemento a{i+1}{j+1}\"))\n",
    "            linha.append(elemento)\n",
    "        A.append(linha)\n",
    "\n",
    "    for i in range(i2):\n",
    "        linha = []\n",
    "        for j in range(j2):\n",
    "            elemento = int(input(f\"Qual o valor do elemento a{i+1}{j+1}\"))\n",
    "            linha.append(elemento)\n",
    "        B.append(linha)\n",
    "\n",
    "    for i in range(i1):\n",
    "        linha = []\n",
    "        for j in range(j2):\n",
    "            soma = 0\n",
    "            for k in range(j1):  # percorre os \"meios\"\n",
    "                soma += A[i][k] * B[k][j]\n",
    "            linha.append(soma)\n",
    "        C.append(linha)\n",
    "\n",
    "    # Impressão das matrizes\n",
    "def imprimir_matriz(M, nome):\n",
    "    print(f\"\\nMatriz {nome}:\")\n",
    "    for linha in M:\n",
    "        for elemento in linha:\n",
    "            print(f\"{elemento:5}\", end=\" \")\n",
    "        print()\n",
    "\n",
    "imprimir_matriz(A, \"A\")\n",
    "imprimir_matriz(B, \"B\")\n",
    "imprimir_matriz(C, \"C = A x B\")"
   ]
  },
  {
   "cell_type": "markdown",
   "id": "ef28da77",
   "metadata": {},
   "source": [
    "## Determinante de Matrizes"
   ]
  },
  {
   "cell_type": "code",
   "execution_count": 1,
   "id": "d9a91e0d",
   "metadata": {},
   "outputs": [
    {
     "name": "stdout",
     "output_type": "stream",
     "text": [
      "O determinante de A é 6847\n"
     ]
    }
   ],
   "source": [
    "n = int(input(\"Digite o tamanho da matriz: \"))\n",
    "\n",
    "A = []\n",
    "\n",
    "def matriz_2x2():\n",
    "    for i in range(2):\n",
    "        linha = []\n",
    "        for j in range(2):\n",
    "            elemento = int(input(f\"Digite o valor do elemento a{i+1}{j+1}: \"))\n",
    "            linha.append(elemento)\n",
    "        A.append(linha)\n",
    "    \n",
    "    # Calculando o determinante\n",
    "    a = A[0][0]\n",
    "    b = A[0][1]\n",
    "    c = A[1][0]\n",
    "    d = A[1][1]\n",
    "    determinante = a*d - b*c\n",
    "    print(f\"O determinante de A é {determinante}\")\n",
    "\n",
    "def matriz_3x3():\n",
    "    for i in range(3):\n",
    "        linha = []\n",
    "        for j in range(3):\n",
    "            elemento = int(input(f\"Digite o valor do elemento a{i+1}{j+1}: \"))\n",
    "            linha.append(elemento)\n",
    "        A.append(linha)\n",
    "    \n",
    "    a, b, c = A[0]\n",
    "    d, e, f = A[1]\n",
    "    g, h, i = A[2]\n",
    "    determinante = (a*e*i + b*f*g + c*d*h) - (c*e*g + b*d*i + a*f*h)\n",
    "    print(f\"O determinante de A é {determinante}\")\n",
    "\n",
    "if n == 2:\n",
    "    matriz_2x2()\n",
    "elif n == 3:\n",
    "    matriz_3x3()\n",
    "else:\n",
    "    print(\"Esse código calcula apenas matrizes 2x2.\")\n"
   ]
  }
 ],
 "metadata": {
  "kernelspec": {
   "display_name": "Python 3",
   "language": "python",
   "name": "python3"
  },
  "language_info": {
   "codemirror_mode": {
    "name": "ipython",
    "version": 3
   },
   "file_extension": ".py",
   "mimetype": "text/x-python",
   "name": "python",
   "nbconvert_exporter": "python",
   "pygments_lexer": "ipython3",
   "version": "3.13.2"
  }
 },
 "nbformat": 4,
 "nbformat_minor": 5
}
