{
 "cells": [
  {
   "cell_type": "markdown",
   "id": "2237b2ca",
   "metadata": {},
   "source": [
    "# Calculo de Matrizes"
   ]
  },
  {
   "cell_type": "markdown",
   "id": "a049f18c",
   "metadata": {},
   "source": [
    "## Soma de matrizes"
   ]
  },
  {
   "cell_type": "code",
   "execution_count": 13,
   "id": "fe2e839b",
   "metadata": {},
   "outputs": [
    {
     "name": "stdout",
     "output_type": "stream",
     "text": [
      "Matriz A\n",
      " 1  2 \n",
      " 3  4 \n",
      "Matriz B\n",
      " 1  2 \n",
      " 3  4 \n",
      "Matriz C = A + B\n",
      " 2  4 \n",
      " 6  8 \n"
     ]
    }
   ],
   "source": [
    "linhas = int(input(\"Digite o número de linhas das matrizes\"))\n",
    "colunas = int(input(\"Digite o número de colunas das matrizes\"))\n",
    "\n",
    "A = []\n",
    "B = []\n",
    "C = []\n",
    "\n",
    "for i in range(linhas):\n",
    "    linha = []\n",
    "    for j in range(colunas):\n",
    "        elemento = int(input(f\"Digite o valor de a{i+1}{j+1}\"))\n",
    "        linha.append(elemento) \n",
    "    A.append(linha)\n",
    "\n",
    "for i in range(linhas):\n",
    "    linha = []\n",
    "    for j in range(colunas):\n",
    "        elemento = int(input(f\"Digite o valor de b{i+1}{j+1}\"))\n",
    "        linha.append(elemento) \n",
    "    B.append(linha)\n",
    "\n",
    "for i in range(linhas):\n",
    "    linha = []\n",
    "    for j in range(colunas):\n",
    "        elemento = A[i][j] + B[i][j]\n",
    "        linha.append(elemento) \n",
    "    C.append(linha)\n",
    "\n",
    "def imprimir_matriz(M, nome):\n",
    "    print(f\"Matriz {nome}\")\n",
    "    for linha in M:\n",
    "        for elemento in linha:\n",
    "            print(f\"{elemento:2}\", end=\" \")  \n",
    "        print() \n",
    "\n",
    "# Exibe resultados\n",
    "imprimir_matriz(A, \"A\")\n",
    "imprimir_matriz(B, \"B\")\n",
    "imprimir_matriz(C, \"C = A + B\")"
   ]
  },
  {
   "cell_type": "markdown",
   "id": "25dedf84",
   "metadata": {},
   "source": [
    "## Subtração de frações"
   ]
  },
  {
   "cell_type": "code",
   "execution_count": null,
   "id": "de0d4519",
   "metadata": {},
   "outputs": [
    {
     "name": "stdout",
     "output_type": "stream",
     "text": [
      "\n",
      "Matriz A:\n",
      "    2     2 \n",
      "    2     2 \n",
      "\n",
      "Matriz B:\n",
      "    1     1 \n",
      "    1     1 \n",
      "\n",
      "Matriz C = A - B:\n",
      "    1     1 \n",
      "    1     1 \n"
     ]
    }
   ],
   "source": [
    "linhas = int(input(\"Digite o número de linhas das matrizes\"))\n",
    "colunas = int(input(\"Digite o número de colunas das matrizes\"))\n",
    "\n",
    "A = []\n",
    "B = []\n",
    "C = []\n",
    "\n",
    "for i in range(linhas):\n",
    "    linha = []\n",
    "    for j in range(colunas):\n",
    "        elemento = int(input(f\"Digite o valor de a{i+1}{j+1}\"))\n",
    "        linha.append(elemento) \n",
    "    A.append(linha)\n",
    "\n",
    "for i in range(linhas):\n",
    "    linha = []\n",
    "    for j in range(colunas):\n",
    "        elemento = int(input(f\"Digite o valor de b{i+1}{j+1}\"))\n",
    "        linha.append(elemento) \n",
    "    B.append(linha)\n",
    "\n",
    "for i in range(linhas):\n",
    "    linha = []\n",
    "    for j in range(colunas):\n",
    "        elemento = A[i][j] - B[i][j]\n",
    "        linha.append(elemento)\n",
    "    C.append(linha)\n",
    "\n",
    "def imprimir_matriz(M, nome):\n",
    "    print(f\"\\nMatriz {nome}:\")\n",
    "    for linha in M:\n",
    "        for elemento in linha:\n",
    "            print(f\"{elemento:2}\", end=\" \")\n",
    "        print()\n",
    "\n",
    "# Exibe resultados\n",
    "imprimir_matriz(A, \"A\")\n",
    "imprimir_matriz(B, \"B\")\n",
    "imprimir_matriz(C, \"C = A - B\")"
   ]
  },
  {
   "cell_type": "markdown",
   "id": "a1e8aaad",
   "metadata": {},
   "source": [
    "## Multiplicação de Matrizes"
   ]
  },
  {
   "cell_type": "code",
   "execution_count": 17,
   "id": "bff6308c",
   "metadata": {},
   "outputs": [
    {
     "name": "stdout",
     "output_type": "stream",
     "text": [
      "\n",
      "Matriz A:\n",
      "    2     3 \n",
      "    4     5 \n",
      "\n",
      "Matriz B:\n",
      "    1     2     3 \n",
      "    4     5     6 \n",
      "\n",
      "Matriz C = A x B:\n",
      "   14    19    24 \n",
      "   24    33    42 \n"
     ]
    }
   ],
   "source": [
    "i1 = int(input(\"Quantas linhas tem a primeira matriz?\"))\n",
    "j1 = int(input(\"Quantas Colunas tem a primeira matriz\"))\n",
    "i2 = int(input(\"Quantas linhas tem a segunda matriz?\"))\n",
    "j2 = int(input(\"Quantas Colunas tem a segunda matriz\"))\n",
    "\n",
    "A = []\n",
    "B = []\n",
    "C = []\n",
    "\n",
    "\n",
    "if j1 != i2:\n",
    "    print(\"Sem solução!\")\n",
    "else:\n",
    "    for i in range(i1):\n",
    "        linha = []\n",
    "        for j in range(j1):\n",
    "            elemento = int(input(f\"Qual o valor do elemento a{i+1}{j+1}\"))\n",
    "            linha.append(elemento)\n",
    "        A.append(linha)\n",
    "\n",
    "    for i in range(i2):\n",
    "        linha = []\n",
    "        for j in range(j2):\n",
    "            elemento = int(input(f\"Qual o valor do elemento a{i+1}{j+1}\"))\n",
    "            linha.append(elemento)\n",
    "        B.append(linha)\n",
    "\n",
    "    for i in range(i1):\n",
    "        linha = []\n",
    "        for j in range(j2):\n",
    "            soma = 0\n",
    "            for k in range(j1):  # percorre os \"meios\"\n",
    "                soma += A[i][k] * B[k][j]\n",
    "            linha.append(soma)\n",
    "        C.append(linha)\n",
    "\n",
    "    # Impressão das matrizes\n",
    "def imprimir_matriz(M, nome):\n",
    "    print(f\"\\nMatriz {nome}:\")\n",
    "    for linha in M:\n",
    "        for elemento in linha:\n",
    "            print(f\"{elemento:5}\", end=\" \")\n",
    "        print()\n",
    "\n",
    "imprimir_matriz(A, \"A\")\n",
    "imprimir_matriz(B, \"B\")\n",
    "imprimir_matriz(C, \"C = A x B\")"
   ]
  },
  {
   "cell_type": "markdown",
   "id": "ef28da77",
   "metadata": {},
   "source": [
    "## Determinante de Matrizes"
   ]
  },
  {
   "cell_type": "code",
   "execution_count": 25,
   "id": "d9a91e0d",
   "metadata": {},
   "outputs": [
    {
     "name": "stdout",
     "output_type": "stream",
     "text": [
      "O determinante de A é 630\n"
     ]
    }
   ],
   "source": [
    "n = int(input(\"Digite o tamanho da matriz: \"))\n",
    "\n",
    "A = []\n",
    "\n",
    "def matriz_2x2():\n",
    "    for i in range(2):\n",
    "        linha = []\n",
    "        for j in range(2):\n",
    "            elemento = int(input(f\"Digite o valor do elemento a{i+1}{j+1}: \"))\n",
    "            linha.append(elemento)\n",
    "        A.append(linha)\n",
    "    \n",
    "    # Calculando o determinante\n",
    "    a = A[0][0]\n",
    "    b = A[0][1]\n",
    "    c = A[1][0]\n",
    "    d = A[1][1]\n",
    "    determinante = a*d - b*c\n",
    "    print(f\"O determinante de A é {determinante}\")\n",
    "\n",
    "def matriz_3x3():\n",
    "    for i in range(3):\n",
    "        linha = []\n",
    "        for j in range(3):\n",
    "            elemento = int(input(f\"Digite o valor do elemento a{i+1}{j+1}: \"))\n",
    "            linha.append(elemento)\n",
    "        A.append(linha)\n",
    "    \n",
    "    a, b, c = A[0]\n",
    "    d, e, f = A[1]\n",
    "    g, h, i = A[2]\n",
    "    determinante = (a*e*i + b*f*g + c*d*h) - (c*e*g + b*d*i + a*f*h)\n",
    "    print(f\"O determinante de A é {determinante}\")\n",
    "\n",
    "if n == 2:\n",
    "    matriz_2x2()\n",
    "elif n == 3:\n",
    "    matriz_3x3()\n",
    "else:\n",
    "    print(\"Esse código calcula apenas matrizes 2x2.\")\n"
   ]
  }
 ],
 "metadata": {
  "kernelspec": {
   "display_name": "Python 3",
   "language": "python",
   "name": "python3"
  },
  "language_info": {
   "codemirror_mode": {
    "name": "ipython",
    "version": 3
   },
   "file_extension": ".py",
   "mimetype": "text/x-python",
   "name": "python",
   "nbconvert_exporter": "python",
   "pygments_lexer": "ipython3",
   "version": "3.13.2"
  }
 },
 "nbformat": 4,
 "nbformat_minor": 5
}
