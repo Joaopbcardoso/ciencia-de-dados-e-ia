{
  "nbformat": 4,
  "nbformat_minor": 0,
  "metadata": {
    "colab": {
      "provenance": []
    },
    "kernelspec": {
      "name": "python3",
      "display_name": "Python 3"
    },
    "language_info": {
      "name": "python"
    }
  },
  "cells": [
    {
      "cell_type": "code",
      "source": [
        "import numpy as np"
      ],
      "metadata": {
        "id": "fnuyCCWv73bg"
      },
      "execution_count": 6,
      "outputs": []
    },
    {
      "cell_type": "code",
      "execution_count": 18,
      "metadata": {
        "id": "3n3TpGOukT6J"
      },
      "outputs": [],
      "source": [
        "class CustomError(Exception):\n",
        "  pass\n",
        "\n",
        "class Matriz:\n",
        "  def __init__(self, mat):\n",
        "    self.mat = mat\n",
        "    self.lin = len(mat)\n",
        "    self.col = len(mat[0])\n",
        "\n",
        "  def getLinha(self, n):\n",
        "    return [i for i in self.mat[n]]\n",
        "\n",
        "  def getColuna(self, n):\n",
        "    return [i[n] for i in self.mat]\n",
        "\n",
        "  def mult_escalar(self, escalar):\n",
        "    matRes = []\n",
        "    for i in range(self.lin):\n",
        "      matRes.append([x*escalar for x in self.getLinha(i)])\n",
        "    return Matriz(matRes)\n",
        "\n",
        "  def __mul__(self, mat2):\n",
        "    if self.col != mat2.lin :\n",
        "      raise CustomError(\"Não Existe, MAT1.lin != MAT2.col !\")\n",
        "\n",
        "    matRes = []\n",
        "    for i in range(self.lin):\n",
        "      matRes.append([])\n",
        "      for j in range(mat2.col):\n",
        "        listMult = [x*y for x, y in zip(self.getLinha(i), mat2.getColuna(j))]\n",
        "        matRes[i].append(sum(listMult))\n",
        "\n",
        "    return Matriz(matRes)\n",
        "\n",
        "  def __add__(self, mat2):\n",
        "    if self.lin != mat2.lin or self.col != mat2.col :\n",
        "      raise CustomError(\"Não Existe, Matrises escalas diferentes!\")\n",
        "\n",
        "    matRes = []\n",
        "    for i in range(self.lin):\n",
        "      matRes.append([])\n",
        "      for j in range(self.col):\n",
        "        matRes[i].append(self.mat[i][j] + mat2.mat[i][j])\n",
        "    return Matriz(matRes)\n",
        "\n",
        "  def print(self):\n",
        "    for i in self.mat:\n",
        "      print(i)"
      ]
    },
    {
      "cell_type": "code",
      "source": [
        "mat1 = Matriz([[1, 2, 3], [4, 5, 6]])\n",
        "\n",
        "mat1.mult_escalar(2).print()"
      ],
      "metadata": {
        "colab": {
          "base_uri": "https://localhost:8080/"
        },
        "id": "Bumxe0J06P-j",
        "outputId": "2894132c-8301-43db-f52f-db38cf9b8536"
      },
      "execution_count": 19,
      "outputs": [
        {
          "output_type": "stream",
          "name": "stdout",
          "text": [
            "[2, 4, 6]\n",
            "[8, 10, 12]\n"
          ]
        }
      ]
    },
    {
      "cell_type": "code",
      "source": [
        "from re import M\n",
        "mat2 = Matriz([[6, 5, 4], [3, 2, 1]])\n",
        "\n",
        "(mat1 + mat2).print()"
      ],
      "metadata": {
        "colab": {
          "base_uri": "https://localhost:8080/"
        },
        "id": "LKWIsMcJ-15C",
        "outputId": "4ced32bd-3694-4419-8a13-49332df41004"
      },
      "execution_count": 20,
      "outputs": [
        {
          "output_type": "stream",
          "name": "stdout",
          "text": [
            "[7, 7, 7]\n",
            "[7, 7, 7]\n"
          ]
        }
      ]
    },
    {
      "cell_type": "code",
      "source": [
        "mat1 = Matriz([[1, 2], [3, 4]])\n",
        "mat2 = Matriz([[1, 2, 3],[4, 5, 6]])\n",
        "(mat1 * mat2).print()"
      ],
      "metadata": {
        "colab": {
          "base_uri": "https://localhost:8080/"
        },
        "id": "OSkzegBg_gl9",
        "outputId": "d665a009-f626-45a1-a2d6-48c8be7212b5"
      },
      "execution_count": 23,
      "outputs": [
        {
          "output_type": "stream",
          "name": "stdout",
          "text": [
            "[9, 12, 15]\n",
            "[19, 26, 33]\n"
          ]
        }
      ]
    },
    {
      "cell_type": "code",
      "source": [],
      "metadata": {
        "id": "21UFqPMM_n_-"
      },
      "execution_count": null,
      "outputs": []
    }
  ]
}