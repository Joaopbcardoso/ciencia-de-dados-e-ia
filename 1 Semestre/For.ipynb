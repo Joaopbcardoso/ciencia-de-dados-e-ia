{
 "cells": [
  {
   "cell_type": "code",
   "execution_count": 7,
   "metadata": {
    "colab": {
     "base_uri": "https://localhost:8080/"
    },
    "executionInfo": {
     "elapsed": 4142,
     "status": "ok",
     "timestamp": 1744812477675,
     "user": {
      "displayName": "João Pedro Benvenutti Vidal Cardoso",
      "userId": "01799334098896419732"
     },
     "user_tz": 180
    },
    "id": "HPte49Up7KcZ",
    "outputId": "9177bb61-8afd-4e70-9e80-5284acfa3686"
   },
   "outputs": [
    {
     "name": "stdout",
     "output_type": "stream",
     "text": [
      "Collecting colorama\n",
      "  Downloading colorama-0.4.6-py2.py3-none-any.whl.metadata (17 kB)\n",
      "Downloading colorama-0.4.6-py2.py3-none-any.whl (25 kB)\n",
      "Installing collected packages: colorama\n",
      "Successfully installed colorama-0.4.6\n"
     ]
    }
   ],
   "source": [
    "pip install colorama"
   ]
  },
  {
   "cell_type": "code",
   "execution_count": 1,
   "metadata": {
    "colab": {
     "base_uri": "https://localhost:8080/"
    },
    "executionInfo": {
     "elapsed": 23,
     "status": "ok",
     "timestamp": 1744807598915,
     "user": {
      "displayName": "João Pedro Benvenutti Vidal Cardoso",
      "userId": "01799334098896419732"
     },
     "user_tz": 180
    },
    "id": "VcfmBPUlomjM",
    "outputId": "29710dac-d446-48b2-a8b3-bfa1b943599b"
   },
   "outputs": [
    {
     "name": "stdout",
     "output_type": "stream",
     "text": [
      "1, 2, 3, 4, "
     ]
    }
   ],
   "source": [
    "for i in [1, 2, 3, 4] :\n",
    "    print(i, end=\", \")"
   ]
  },
  {
   "cell_type": "code",
   "execution_count": 2,
   "metadata": {
    "colab": {
     "base_uri": "https://localhost:8080/"
    },
    "executionInfo": {
     "elapsed": 14,
     "status": "ok",
     "timestamp": 1744808962662,
     "user": {
      "displayName": "João Pedro Benvenutti Vidal Cardoso",
      "userId": "01799334098896419732"
     },
     "user_tz": 180
    },
    "id": "K3YywNictAVb",
    "outputId": "fc2fcc68-23c1-4029-c542-928c85666c19"
   },
   "outputs": [
    {
     "name": "stdout",
     "output_type": "stream",
     "text": [
      "A loja 1 está em Rio de Janeiro\n",
      "A loja 2 está em São Paulo\n",
      "A loja 3 está em Belo Horizonte\n",
      "A loja 4 está em Curitiba\n",
      "A loja 5 está em Florianópolis\n",
      "Acabou o for\n"
     ]
    }
   ],
   "source": [
    "lojas = ['Rio de Janeiro', 'São Paulo', 'Belo Horizonte', 'Curitiba', 'Florianópolis']\n",
    "for i, loja in enumerate(lojas, 1):\n",
    "    print(\"A loja\", i, \"está em\", loja)\n",
    "print(\"Acabou o for\")"
   ]
  },
  {
   "cell_type": "code",
   "execution_count": 4,
   "metadata": {
    "colab": {
     "base_uri": "https://localhost:8080/"
    },
    "executionInfo": {
     "elapsed": 12,
     "status": "ok",
     "timestamp": 1744809594649,
     "user": {
      "displayName": "João Pedro Benvenutti Vidal Cardoso",
      "userId": "01799334098896419732"
     },
     "user_tz": 180
    },
    "id": "rdqrc3SOvzC6",
    "outputId": "44303679-6210-4cea-f7e6-5bc1c71f2f77"
   },
   "outputs": [
    {
     "name": "stdout",
     "output_type": "stream",
     "text": [
      "1. Reunião de Equipe\n",
      "2. Responder E-mails\n",
      "3. Gerar relatórios\n",
      "4. Atualizar Planilhas\n"
     ]
    }
   ],
   "source": [
    "tarefas = ['Reunião de Equipe', 'Responder E-mails', 'Gerar relatórios', 'Atualizar Planilhas']\n",
    "for i, tarefa in enumerate(tarefas, 1):\n",
    "    print(f\"{i}. {tarefa}\")"
   ]
  },
  {
   "cell_type": "code",
   "execution_count": 6,
   "metadata": {
    "colab": {
     "base_uri": "https://localhost:8080/"
    },
    "executionInfo": {
     "elapsed": 5,
     "status": "ok",
     "timestamp": 1744811839239,
     "user": {
      "displayName": "João Pedro Benvenutti Vidal Cardoso",
      "userId": "01799334098896419732"
     },
     "user_tz": 180
    },
    "id": "rxw1HfWLvt85",
    "outputId": "e5904891-5173-4954-9762-ffa0a65c2c8f"
   },
   "outputs": [
    {
     "name": "stdout",
     "output_type": "stream",
     "text": [
      "1\n",
      "2\n",
      "3\n",
      "4\n",
      "5\n",
      "6\n",
      "7\n",
      "8\n",
      "9\n",
      "10\n",
      "Fim do loop\n"
     ]
    }
   ],
   "source": [
    "for i in range (1, 11):\n",
    "    print(i)\n",
    "else:\n",
    "    print(\"Fim do loop\")"
   ]
  },
  {
   "cell_type": "code",
   "execution_count": 10,
   "metadata": {
    "colab": {
     "base_uri": "https://localhost:8080/"
    },
    "executionInfo": {
     "elapsed": 56,
     "status": "ok",
     "timestamp": 1744813422056,
     "user": {
      "displayName": "João Pedro Benvenutti Vidal Cardoso",
      "userId": "01799334098896419732"
     },
     "user_tz": 180
    },
    "id": "eaYACpsq7AkH",
    "outputId": "ced4298f-1109-4c98-9163-ed73107758fb"
   },
   "outputs": [
    {
     "name": "stdout",
     "output_type": "stream",
     "text": [
      "\u001b[31msome red text\n",
      "\u001b[42mand with green backgrount\n",
      "\u001b[2mand in dim text\n",
      "\u001b[0m\n",
      "Back to normal\n"
     ]
    }
   ],
   "source": [
    "from colorama import Fore, Back, Style\n",
    "print(Fore.RED + 'some red text')\n",
    "print(Back.GREEN + 'and with green backgrount')\n",
    "print(Style.DIM + \"and in dim text\")\n",
    "print(Style.RESET_ALL)\n",
    "print(\"Back to normal\")"
   ]
  },
  {
   "cell_type": "code",
   "execution_count": null,
   "metadata": {
    "colab": {
     "base_uri": "https://localhost:8080/",
     "height": 356
    },
    "executionInfo": {
     "elapsed": 8554,
     "status": "error",
     "timestamp": 1744814444770,
     "user": {
      "displayName": "João Pedro Benvenutti Vidal Cardoso",
      "userId": "01799334098896419732"
     },
     "user_tz": 180
    },
    "id": "xAcvzxw9CExh",
    "outputId": "0000fb1c-5f9b-49ab-bf04-9307828ab1ed"
   },
   "outputs": [
    {
     "ename": "",
     "evalue": "",
     "output_type": "error",
     "traceback": [
      "\u001b[1;31mRunning cells with 'Python 3.13.1' requires the ipykernel package.\n",
      "\u001b[1;31mRun the following command to install 'ipykernel' into the Python environment. \n",
      "\u001b[1;31mCommand: '\"c:/Program Files/Python313/python.exe\" -m pip install ipykernel -U --user --force-reinstall'"
     ]
    }
   ],
   "source": [
    "produtos = [\"tv\", \"geladeira\", \"tablet\"]\n",
    "estoque = [200, 110, 50]\n",
    "produto = input(\"Digite um Produto\")\n",
    "i = produtos.index(produto)\n",
    "print(i)"
   ]
  }
 ],
 "metadata": {
  "colab": {
   "authorship_tag": "ABX9TyNtuIqqSeuBkF21b2lgdKCK",
   "provenance": []
  },
  "kernelspec": {
   "display_name": "Python 3",
   "name": "python3"
  },
  "language_info": {
   "name": "python",
   "version": "3.13.1"
  }
 },
 "nbformat": 4,
 "nbformat_minor": 0
}
