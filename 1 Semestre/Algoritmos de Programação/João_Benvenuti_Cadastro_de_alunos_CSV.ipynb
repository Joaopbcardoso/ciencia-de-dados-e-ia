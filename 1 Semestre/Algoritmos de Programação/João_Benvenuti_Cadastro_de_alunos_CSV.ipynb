{
 "cells": [
  {
   "cell_type": "code",
   "execution_count": 1,
   "metadata": {
    "id": "tXaOXugVKvTN"
   },
   "outputs": [],
   "source": [
    "import csv"
   ]
  },
  {
   "cell_type": "code",
   "execution_count": 9,
   "metadata": {
    "id": "HuGS7j8sM4UJ"
   },
   "outputs": [],
   "source": [
    "alunos = []"
   ]
  },
  {
   "cell_type": "code",
   "execution_count": 10,
   "metadata": {
    "id": "5zbzK5DJMdyS"
   },
   "outputs": [],
   "source": [
    "def cadastroAlunos():\n",
    "    for i in range(3):\n",
    "        nome = input(f\"Difite o nome do {i+1}º aluno: \")\n",
    "        idade = input(f\"Difite a idade do {i+1}º aluno: \")\n",
    "        nota = float(input(f\"Difite a nota final do {i+1}º aluno: \"))\n",
    "        alunos.append([nome, idade, nota])\n",
    "    print(alunos)"
   ]
  },
  {
   "cell_type": "code",
   "execution_count": 15,
   "metadata": {
    "id": "GAahdW-gLY0y"
   },
   "outputs": [],
   "source": [
    "def CriaPlanilhaNotaFinal():\n",
    "    with open('alunos.csv', 'w', encoding='utf-8', newline='') as f:\n",
    "        writer = csv.writer(f)\n",
    "        writer.writerow([\"Nome\", \"Idade\", \"Nota Final\"])\n",
    "        writer.writerows(alunos)  "
   ]
  },
  {
   "cell_type": "code",
   "execution_count": 12,
   "metadata": {
    "id": "fHoPsbDnSw4n"
   },
   "outputs": [],
   "source": [
    "def pesquisarAluno(nome):\n",
    "    for aluno in alunos:\n",
    "        if nome == aluno[0]:\n",
    "            print(f\"A nota final do aluno foi {aluno[2]}\")\n",
    "        "
   ]
  },
  {
   "cell_type": "markdown",
   "metadata": {
    "id": "a9CvBSI0TAp_"
   },
   "source": [
    "# **Programa Principal**"
   ]
  },
  {
   "cell_type": "code",
   "execution_count": 13,
   "metadata": {
    "id": "vtmLN_B0OHcA"
   },
   "outputs": [
    {
     "name": "stdout",
     "output_type": "stream",
     "text": [
      "[['João', '18', 10.0], ['Pedro', '19', 10.0], ['Lucas', '19', 10.0]]\n"
     ]
    }
   ],
   "source": [
    "cadastroAlunos()"
   ]
  },
  {
   "cell_type": "code",
   "execution_count": 16,
   "metadata": {
    "id": "_9tQyeu7RY_S"
   },
   "outputs": [],
   "source": [
    "CriaPlanilhaNotaFinal()"
   ]
  },
  {
   "cell_type": "code",
   "execution_count": null,
   "metadata": {
    "id": "kgunGxfpTU9W"
   },
   "outputs": [],
   "source": [
    "nome_aluno = input(f\"Difite o nome do aluno: \")\n",
    "pesquisarAluno(nome_aluno)"
   ]
  }
 ],
 "metadata": {
  "colab": {
   "provenance": []
  },
  "kernelspec": {
   "display_name": "Python 3",
   "name": "python3"
  },
  "language_info": {
   "codemirror_mode": {
    "name": "ipython",
    "version": 3
   },
   "file_extension": ".py",
   "mimetype": "text/x-python",
   "name": "python",
   "nbconvert_exporter": "python",
   "pygments_lexer": "ipython3",
   "version": "3.13.1"
  }
 },
 "nbformat": 4,
 "nbformat_minor": 0
}
