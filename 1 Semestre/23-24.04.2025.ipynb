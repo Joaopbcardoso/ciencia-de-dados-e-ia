{
 "cells": [
  {
   "cell_type": "code",
   "execution_count": null,
   "metadata": {
    "colab": {
     "base_uri": "https://localhost:8080/"
    },
    "executionInfo": {
     "elapsed": 1983,
     "status": "ok",
     "timestamp": 1745413056030,
     "user": {
      "displayName": "João Pedro Benvenutti Vidal Cardoso",
      "userId": "01799334098896419732"
     },
     "user_tz": 180
    },
    "id": "BMDGbX_msuFi",
    "outputId": "c098c9e4-97b0-4e57-9ec1-36d8661c97ff"
   },
   "outputs": [
    {
     "name": "stdout",
     "output_type": "stream",
     "text": [
      "Digite o valor a ser procurado: 27\n",
      "27 achado na lista na posição 2\n"
     ]
    }
   ],
   "source": [
    "lista = [15, 7, 27, 39]\n",
    "\n",
    "procurado = int(input(\"Digite o valor a ser procurado: \"))\n",
    "\n",
    "achou = False\n",
    "\n",
    "x = 0\n",
    "while x <len(lista):\n",
    "    if lista [x] == procurado :\n",
    "        achou = True\n",
    "        break\n",
    "    x += 1\n",
    "if achou :\n",
    "    print(f\"{procurado} achado na lista na posição {x}\")\n",
    "else :\n",
    "    print(f\"{procurado} não encontrado na lista\")"
   ]
  },
  {
   "cell_type": "code",
   "execution_count": null,
   "metadata": {
    "colab": {
     "base_uri": "https://localhost:8080/"
    },
    "executionInfo": {
     "elapsed": 2497,
     "status": "ok",
     "timestamp": 1745414509150,
     "user": {
      "displayName": "João Pedro Benvenutti Vidal Cardoso",
      "userId": "01799334098896419732"
     },
     "user_tz": 180
    },
    "id": "zBbBKXMkt5iB",
    "outputId": "8ba4a2b5-bfcf-4dbb-ef22-0c6eb7b1433e"
   },
   "outputs": [
    {
     "name": "stdout",
     "output_type": "stream",
     "text": [
      "Digite o valor a ser procurado: 5\n",
      "5 não encontrado na lista\n"
     ]
    }
   ],
   "source": [
    "lista = [15, 7, 27, 39]\n",
    "\n",
    "procurado = int(input(\"Digite o valor a ser procurado: \"))\n",
    "\n",
    "achou = False\n",
    "\n",
    "for i, valor in enumerate(lista):\n",
    "    if valor == procurado:\n",
    "        achou = True\n",
    "        break\n",
    "\n",
    "if achou:\n",
    "    print(f\"{procurado} achado na lista na posição {i}\")\n",
    "else:\n",
    "    print(f\"{procurado} não encontrado na lista\")"
   ]
  },
  {
   "cell_type": "code",
   "execution_count": null,
   "metadata": {
    "colab": {
     "base_uri": "https://localhost:8080/"
    },
    "executionInfo": {
     "elapsed": 9,
     "status": "ok",
     "timestamp": 1745417402195,
     "user": {
      "displayName": "João Pedro Benvenutti Vidal Cardoso",
      "userId": "01799334098896419732"
     },
     "user_tz": 180
    },
    "id": "vmJ-BmQW9wZm",
    "outputId": "950c4d9a-5567-4909-b1d2-0de60d93fd47"
   },
   "outputs": [
    {
     "name": "stdout",
     "output_type": "stream",
     "text": [
      "O máximo é 7 e o mínimo é 0\n"
     ]
    }
   ],
   "source": [
    "lista = [ 1, 7, 2, 4, 0]\n",
    "\n",
    "maximo = lista[0]\n",
    "minimo = lista[0]\n",
    "\n",
    "for encontrar in lista :\n",
    "    if encontrar > maximo :\n",
    "        maximo = encontrar\n",
    "    if encontrar < minimo :\n",
    "        minimo = encontrar\n",
    "print(f\"O máximo é {maximo} e o mínimo é {minimo}\")"
   ]
  },
  {
   "cell_type": "code",
   "execution_count": null,
   "metadata": {
    "colab": {
     "base_uri": "https://localhost:8080/"
    },
    "executionInfo": {
     "elapsed": 6,
     "status": "ok",
     "timestamp": 1745418246787,
     "user": {
      "displayName": "João Pedro Benvenutti Vidal Cardoso",
      "userId": "01799334098896419732"
     },
     "user_tz": 180
    },
    "id": "Ep0wDGJOBChi",
    "outputId": "41c8d92a-de23-4c1e-8e2c-5ab78e631b15"
   },
   "outputs": [
    {
     "name": "stdout",
     "output_type": "stream",
     "text": [
      "Pares: [8, 12, 0] ímpares: [9, 7, 13, 21]\n"
     ]
    }
   ],
   "source": [
    "valores = [9, 8, 7, 12, 0, 13, 21]\n",
    "pares = []\n",
    "impares = []\n",
    "\n",
    "for elementos in valores :\n",
    "    if elementos % 2 == 0:\n",
    "        pares.append(elementos)\n",
    "    else :\n",
    "        impares.append(elementos)\n",
    "print(f\"Pares: {pares} ímpares: {impares}\")"
   ]
  },
  {
   "cell_type": "code",
   "execution_count": 2,
   "metadata": {
    "colab": {
     "base_uri": "https://localhost:8080/"
    },
    "executionInfo": {
     "elapsed": 45,
     "status": "ok",
     "timestamp": 1745499083790,
     "user": {
      "displayName": "João Pedro Benvenutti Vidal Cardoso",
      "userId": "01799334098896419732"
     },
     "user_tz": 180
    },
    "id": "fTB7kMti1oeH",
    "outputId": "9b0e47d0-31c3-4a2b-a9b5-701b6ea9aeab"
   },
   "outputs": [
    {
     "name": "stdout",
     "output_type": "stream",
     "text": [
      "Erro: Dividiste por zero, meu kiridu!!\n"
     ]
    }
   ],
   "source": [
    "x = 12\n",
    "y = 0\n",
    "try:\n",
    "    z = x/y\n",
    "except ZeroDivisionError:\n",
    "    print(\"Erro: Dividiste por zero, meu kiridu!!\")"
   ]
  },
  {
   "cell_type": "code",
   "execution_count": 4,
   "metadata": {
    "id": "FNUAnY4Q4vOl"
   },
   "outputs": [
    {
     "name": "stdout",
     "output_type": "stream",
     "text": [
      "Valor inválido!!\n",
      "Valor inválido!!\n",
      "34\n"
     ]
    }
   ],
   "source": [
    "def ler_int(mensagem, mensagem_de_erro):\n",
    "    while True:\n",
    "        try:\n",
    "            entrada = int(input(mensagem))\n",
    "            return entrada\n",
    "        except ValueError:\n",
    "            print(mensagem_de_erro)\n",
    "            continue\n",
    "\n",
    "MSG = \"Digite um número inteiro: \"\n",
    "MSG_ERRO = \"Valor inválido!!\"\n",
    "x = ler_int(MSG, MSG_ERRO)\n",
    "y = ler_int(MSG, MSG_ERRO)\n",
    "print(x+y)"
   ]
  },
  {
   "cell_type": "code",
   "execution_count": null,
   "metadata": {},
   "outputs": [
    {
     "name": "stdout",
     "output_type": "stream",
     "text": [
      "Vamos dividir dois números inseridos pelo usuário\n",
      "Por favor, insira apenas números.\n"
     ]
    }
   ],
   "source": [
    "print(\"Vamos dividir dois números inseridos pelo usuário\")\n",
    "num1 = input(\"Digite o primeiro número: \")\n",
    "num2 = input(\"Digite o segundo número: \")\n",
    "\n",
    "try:\n",
    "    resultado = int(num1) / int(num2)\n",
    "    print(f\"O resultado da divisão é: {resultado}\")\n",
    "except ZeroDivisionError:\n",
    "    print(\"O segundo número não pode ser zero.\")\n",
    "except ValueError:\n",
    "    print(\"Por favor, insira apenas números.\")\n",
    "except Exception as e: #Nunca cai aqui, pois o value error já é bem abrangente\n",
    "    print(f\"Ocorreu um erro inesperado: {e}\")"
   ]
  },
  {
   "cell_type": "code",
   "execution_count": 17,
   "metadata": {},
   "outputs": [
    {
     "ename": "ValueError",
     "evalue": "Erro: Idade não pode ser negativa",
     "output_type": "error",
     "traceback": [
      "\u001b[31m---------------------------------------------------------------------------\u001b[39m",
      "\u001b[31mValueError\u001b[39m                                Traceback (most recent call last)",
      "\u001b[36mCell\u001b[39m\u001b[36m \u001b[39m\u001b[32mIn[17]\u001b[39m\u001b[32m, line 4\u001b[39m\n\u001b[32m      3\u001b[39m     \u001b[38;5;28;01mif\u001b[39;00m idade <= \u001b[32m0\u001b[39m \u001b[38;5;129;01mor\u001b[39;00m idade >= \u001b[32m120\u001b[39m:\n\u001b[32m----> \u001b[39m\u001b[32m4\u001b[39m         \u001b[38;5;28;01mraise\u001b[39;00m \u001b[38;5;167;01mValueError\u001b[39;00m(\u001b[33m\"\u001b[39m\u001b[33mIdade não pode ser negativa\u001b[39m\u001b[33m\"\u001b[39m)\n\u001b[32m      5\u001b[39m \u001b[38;5;28;01mexcept\u001b[39;00m \u001b[38;5;167;01mValueError\u001b[39;00m \u001b[38;5;28;01mas\u001b[39;00m erro :\n",
      "\u001b[31mValueError\u001b[39m: Idade não pode ser negativa",
      "\nDuring handling of the above exception, another exception occurred:\n",
      "\u001b[31mValueError\u001b[39m                                Traceback (most recent call last)",
      "\u001b[36mCell\u001b[39m\u001b[36m \u001b[39m\u001b[32mIn[17]\u001b[39m\u001b[32m, line 6\u001b[39m\n\u001b[32m      4\u001b[39m         \u001b[38;5;28;01mraise\u001b[39;00m \u001b[38;5;167;01mValueError\u001b[39;00m(\u001b[33m\"\u001b[39m\u001b[33mIdade não pode ser negativa\u001b[39m\u001b[33m\"\u001b[39m)\n\u001b[32m      5\u001b[39m \u001b[38;5;28;01mexcept\u001b[39;00m \u001b[38;5;167;01mValueError\u001b[39;00m \u001b[38;5;28;01mas\u001b[39;00m erro :\n\u001b[32m----> \u001b[39m\u001b[32m6\u001b[39m     \u001b[38;5;28;01mraise\u001b[39;00m \u001b[38;5;167;01mValueError\u001b[39;00m(\u001b[33mf\u001b[39m\u001b[33m\"\u001b[39m\u001b[33mErro: \u001b[39m\u001b[38;5;132;01m{\u001b[39;00merro\u001b[38;5;132;01m}\u001b[39;00m\u001b[33m\"\u001b[39m)\n",
      "\u001b[31mValueError\u001b[39m: Erro: Idade não pode ser negativa"
     ]
    }
   ],
   "source": [
    "try :\n",
    "    idade = int(input(\"Digite sua idade: \"))\n",
    "    if idade <= 0 or idade >= 120:\n",
    "        raise ValueError(\"Idade não pode ser negativa\")\n",
    "except ValueError as erro :\n",
    "    raise ValueError(f\"Erro: {erro}\")"
   ]
  },
  {
   "cell_type": "code",
   "execution_count": null,
   "metadata": {},
   "outputs": [
    {
     "name": "stdout",
     "output_type": "stream",
     "text": [
      "<enumerate object at 0x000001E8AD078EA0>\n",
      "<enumerate object at 0x000001E8AD078EA0>\n",
      "<enumerate object at 0x000001E8AD078EA0>\n",
      "<enumerate object at 0x000001E8AD078EA0>\n",
      "<enumerate object at 0x000001E8AD078EA0>\n"
     ]
    }
   ],
   "source": [
    "# Programa de estoque de carros\n",
    "\n",
    "carros = [\"Fusca\",\"Palho\", \"Siena\", \"Prisma\", \"Versa\"]\n",
    "\n",
    "for carro in enumerate(carros) :\n",
    "    print(enumerate(carro))"
   ]
  }
 ],
 "metadata": {
  "colab": {
   "authorship_tag": "ABX9TyOFQxQdbK5tw20CNxxAB8e1",
   "provenance": []
  },
  "kernelspec": {
   "display_name": "Python 3",
   "name": "python3"
  },
  "language_info": {
   "codemirror_mode": {
    "name": "ipython",
    "version": 3
   },
   "file_extension": ".py",
   "mimetype": "text/x-python",
   "name": "python",
   "nbconvert_exporter": "python",
   "pygments_lexer": "ipython3",
   "version": "3.13.1"
  }
 },
 "nbformat": 4,
 "nbformat_minor": 0
}
