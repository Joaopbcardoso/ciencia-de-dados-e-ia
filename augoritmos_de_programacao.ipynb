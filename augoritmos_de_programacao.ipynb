{
  "nbformat": 4,
  "nbformat_minor": 0,
  "metadata": {
    "colab": {
      "provenance": [],
      "collapsed_sections": [
        "WoecfmY20bys",
        "RTOnHy2-ghfo",
        "TM84Qxnygmzj",
        "y0F4v1jfnZ24",
        "ofC5P7I81uBj"
      ],
      "toc_visible": true,
      "authorship_tag": "ABX9TyPNvgeyMZJJWjtDdGd98/ym",
      "include_colab_link": true
    },
    "kernelspec": {
      "name": "python3",
      "display_name": "Python 3"
    },
    "language_info": {
      "name": "python"
    }
  },
  "cells": [
    {
      "cell_type": "markdown",
      "metadata": {
        "id": "view-in-github",
        "colab_type": "text"
      },
      "source": [
        "<a href=\"https://colab.research.google.com/github/Joaopbcardoso/ciencia-de-dados-e-ia/blob/main/augoritmos_de_programacao.ipynb\" target=\"_parent\"><img src=\"https://colab.research.google.com/assets/colab-badge.svg\" alt=\"Open In Colab\"/></a>"
      ]
    },
    {
      "cell_type": "markdown",
      "source": [
        "#***Aula 1***"
      ],
      "metadata": {
        "id": "WoecfmY20bys"
      }
    },
    {
      "cell_type": "markdown",
      "source": [
        "Primeiros Comandos em **Phyton** no **Colab**"
      ],
      "metadata": {
        "id": "67voobDwzyDD"
      }
    },
    {
      "cell_type": "code",
      "source": [
        "3+4"
      ],
      "metadata": {
        "id": "cJImxBXa2wTd"
      },
      "execution_count": null,
      "outputs": []
    },
    {
      "cell_type": "code",
      "source": [
        "4-8"
      ],
      "metadata": {
        "id": "Xh_IQxYZ2z7M"
      },
      "execution_count": null,
      "outputs": []
    },
    {
      "cell_type": "code",
      "source": [
        "3*5"
      ],
      "metadata": {
        "id": "JunxHh7e23IN"
      },
      "execution_count": null,
      "outputs": []
    },
    {
      "cell_type": "code",
      "source": [
        "import time\n",
        "print(time.ctime())"
      ],
      "metadata": {
        "colab": {
          "base_uri": "https://localhost:8080/"
        },
        "id": "nfCuCB2x3XNs",
        "outputId": "9bc5075f-3d1c-4b3f-da6c-cd81fa52a061"
      },
      "execution_count": null,
      "outputs": [
        {
          "output_type": "stream",
          "name": "stdout",
          "text": [
            "Thu Feb 27 14:47:24 2025\n"
          ]
        }
      ]
    },
    {
      "cell_type": "code",
      "source": [
        "!wget http://tiagodemelo.info/datasets/dados-curso.csv"
      ],
      "metadata": {
        "colab": {
          "base_uri": "https://localhost:8080/"
        },
        "id": "eRqk1e_S4YGG",
        "outputId": "4c982afa-6783-44e6-f502-9508109a44b0"
      },
      "execution_count": null,
      "outputs": [
        {
          "output_type": "stream",
          "name": "stdout",
          "text": [
            "--2025-03-07 16:17:41--  http://tiagodemelo.info/datasets/dados-curso.csv\n",
            "Resolving tiagodemelo.info (tiagodemelo.info)... 108.167.188.189\n",
            "Connecting to tiagodemelo.info (tiagodemelo.info)|108.167.188.189|:80... connected.\n",
            "HTTP request sent, awaiting response... 200 OK\n",
            "Length: 102696 (100K) [text/csv]\n",
            "Saving to: ‘dados-curso.csv’\n",
            "\n",
            "dados-curso.csv     100%[===================>] 100.29K  --.-KB/s    in 0.06s   \n",
            "\n",
            "2025-03-07 16:17:41 (1.73 MB/s) - ‘dados-curso.csv’ saved [102696/102696]\n",
            "\n"
          ]
        }
      ]
    },
    {
      "cell_type": "markdown",
      "source": [],
      "metadata": {
        "id": "myyGIOuVfzXa"
      }
    },
    {
      "cell_type": "code",
      "source": [],
      "metadata": {
        "id": "XwW5hdRlfzFs"
      },
      "execution_count": null,
      "outputs": []
    },
    {
      "cell_type": "markdown",
      "source": [],
      "metadata": {
        "id": "r3vZzPBEgWHn"
      }
    },
    {
      "cell_type": "markdown",
      "source": [],
      "metadata": {
        "id": "y0dvsfB8gYhH"
      }
    },
    {
      "cell_type": "markdown",
      "source": [],
      "metadata": {
        "id": "dA8HM8gC15L-"
      }
    },
    {
      "cell_type": "markdown",
      "source": [
        "#***Aula 2***"
      ],
      "metadata": {
        "id": "RTOnHy2-ghfo"
      }
    },
    {
      "cell_type": "markdown",
      "source": [
        "Primeiros Comandos em **Phyton** no **Colab**"
      ],
      "metadata": {
        "id": "xEXPENiyghfp"
      }
    },
    {
      "cell_type": "code",
      "source": [
        "3+4"
      ],
      "metadata": {
        "id": "c_TCJj4xghfq"
      },
      "execution_count": null,
      "outputs": []
    },
    {
      "cell_type": "code",
      "source": [
        "4-8"
      ],
      "metadata": {
        "id": "kk4-6egyghfs"
      },
      "execution_count": null,
      "outputs": []
    },
    {
      "cell_type": "code",
      "source": [
        "3*5"
      ],
      "metadata": {
        "id": "FpCgwPQjghft"
      },
      "execution_count": null,
      "outputs": []
    },
    {
      "cell_type": "code",
      "source": [
        "import time\n",
        "print(time.ctime())"
      ],
      "metadata": {
        "colab": {
          "base_uri": "https://localhost:8080/"
        },
        "outputId": "9bc5075f-3d1c-4b3f-da6c-cd81fa52a061",
        "id": "ZzY_ihJaghfu"
      },
      "execution_count": null,
      "outputs": [
        {
          "output_type": "stream",
          "name": "stdout",
          "text": [
            "Thu Feb 27 14:47:24 2025\n"
          ]
        }
      ]
    },
    {
      "cell_type": "code",
      "source": [
        "!wget http://tiagodemelo.info/datasets/dados-curso.csv"
      ],
      "metadata": {
        "colab": {
          "base_uri": "https://localhost:8080/"
        },
        "outputId": "dc1e8c5b-c26a-40d3-b036-3e66051cdaa1",
        "id": "BQxQfaQNghfw"
      },
      "execution_count": null,
      "outputs": [
        {
          "output_type": "stream",
          "name": "stdout",
          "text": [
            "--2025-02-27 14:49:30--  http://tiagodemelo.info/datasets/dados-curso.csv\n",
            "Resolving tiagodemelo.info (tiagodemelo.info)... 108.167.188.189\n",
            "Connecting to tiagodemelo.info (tiagodemelo.info)|108.167.188.189|:80... connected.\n",
            "HTTP request sent, awaiting response... 200 OK\n",
            "Length: 102696 (100K) [text/csv]\n",
            "Saving to: ‘dados-curso.csv’\n",
            "\n",
            "dados-curso.csv     100%[===================>] 100.29K  --.-KB/s    in 0.05s   \n",
            "\n",
            "2025-02-27 14:49:30 (1.97 MB/s) - ‘dados-curso.csv’ saved [102696/102696]\n",
            "\n"
          ]
        }
      ]
    },
    {
      "cell_type": "markdown",
      "source": [],
      "metadata": {
        "id": "k-9Dyt8Lghfx"
      }
    },
    {
      "cell_type": "code",
      "source": [],
      "metadata": {
        "id": "wTEaw_9Nghfy"
      },
      "execution_count": null,
      "outputs": []
    },
    {
      "cell_type": "markdown",
      "source": [],
      "metadata": {
        "id": "SoXFgd7bghfz"
      }
    },
    {
      "cell_type": "markdown",
      "source": [],
      "metadata": {
        "id": "kqrH0DLJghfz"
      }
    },
    {
      "cell_type": "markdown",
      "source": [
        "#***Aula 3***"
      ],
      "metadata": {
        "id": "TM84Qxnygmzj"
      }
    },
    {
      "cell_type": "markdown",
      "source": [
        "Minutos para horas:"
      ],
      "metadata": {
        "id": "M_VCFUKEhsZQ"
      }
    },
    {
      "cell_type": "code",
      "source": [
        "minutos = 700\n",
        "horas = minutos/60\n",
        "print(minutos, \" minutos corresponde a\", horas, \" horas\")\n",
        "minutos = 500\n",
        "horas = minutos/60\n",
        "print(minutos, \" minutos corresponde a\", horas, \" horas\")"
      ],
      "metadata": {
        "colab": {
          "base_uri": "https://localhost:8080/"
        },
        "id": "gQYHEOqVgwH3",
        "outputId": "3210633c-ebef-4fbc-d386-c2ec8a3c5335"
      },
      "execution_count": null,
      "outputs": [
        {
          "output_type": "stream",
          "name": "stdout",
          "text": [
            "700  minutos corresponde a 11.666666666666666  horas\n",
            "500  minutos corresponde a 8.333333333333334  horas\n"
          ]
        }
      ]
    },
    {
      "cell_type": "markdown",
      "source": [
        "Minutos para horas com divisão inteira:"
      ],
      "metadata": {
        "id": "O3PPjuk9h-T4"
      }
    },
    {
      "cell_type": "code",
      "source": [
        "minutos = 700\n",
        "horas = minutos//60\n",
        "print(minutos, \" minutos corresponde a\", horas, \"horas\")\n",
        "minutos = 500\n",
        "horas = minutos//60\n",
        "print(minutos, \" minutos corresponde a\", horas, \"horas\")"
      ],
      "metadata": {
        "colab": {
          "base_uri": "https://localhost:8080/"
        },
        "outputId": "f3746997-5b13-4e3b-f502-b6899dec8256",
        "id": "cRZ-D2vth44G"
      },
      "execution_count": null,
      "outputs": [
        {
          "output_type": "stream",
          "name": "stdout",
          "text": [
            "700  minutos corresponde a 11 horas\n",
            "500  minutos corresponde a 8 horas\n"
          ]
        }
      ]
    },
    {
      "cell_type": "markdown",
      "source": [
        "Soma entre dois números usando input, atribuindo um valor a variável que o usuário escolher:"
      ],
      "metadata": {
        "id": "jnD5Kc8izoKz"
      }
    },
    {
      "cell_type": "code",
      "source": [
        "num1 = int(input(\"Digite um Número \"))\n",
        "num2 = int(input(\"Digite Outro Número \"))\n",
        "soma = num1 + num2\n",
        "print(\"A soma dos números é \", soma)"
      ],
      "metadata": {
        "colab": {
          "base_uri": "https://localhost:8080/"
        },
        "id": "4ZMWJZcDi7qY",
        "outputId": "b1718c73-6092-4eca-9f73-5697ce2dafc4"
      },
      "execution_count": null,
      "outputs": [
        {
          "output_type": "stream",
          "name": "stdout",
          "text": [
            "Digite um Número 45\n",
            "Digite Outro Número 9\n",
            "A soma dos números é  54\n"
          ]
        }
      ]
    },
    {
      "cell_type": "code",
      "source": [
        "num1 = float(input(\"Digite o Primeiro Número\"))\n",
        "print(num1)\n",
        "num2 = float(input(\"Digite o Primeiro Número\"))\n",
        "soma = num1+num2\n",
        "print(\"A Soma entre %.2f e %.2f é %.2f.\"%(num1, num2, soma))"
      ],
      "metadata": {
        "colab": {
          "base_uri": "https://localhost:8080/"
        },
        "id": "X8v5vscp546V",
        "outputId": "ba337cd0-8c5c-4085-ab00-114dc0411612"
      },
      "execution_count": null,
      "outputs": [
        {
          "output_type": "stream",
          "name": "stdout",
          "text": [
            "Digite o Primeiro Número10\n",
            "10.0\n",
            "Digite o Primeiro Número20\n",
            "A Soma entre 10.00 e 20.00 é 30.00.\n"
          ]
        }
      ]
    },
    {
      "cell_type": "markdown",
      "source": [],
      "metadata": {
        "id": "Q1xVXwN6tZo_"
      }
    },
    {
      "cell_type": "markdown",
      "source": [
        "*texto em itálico*#***Aula 4***"
      ],
      "metadata": {
        "id": "BatZuLejtdwi"
      }
    },
    {
      "cell_type": "markdown",
      "source": [
        "Minutos para horas:"
      ],
      "metadata": {
        "id": "CNyEt_WMtdwj"
      }
    },
    {
      "cell_type": "code",
      "source": [
        "minutos = 700\n",
        "horas = minutos/60\n",
        "print(minutos, \" minutos corresponde a\", horas, \" horas\")\n",
        "minutos = 500\n",
        "horas = minutos/60\n",
        "print(minutos, \" minutos corresponde a\", horas, \" horas\")"
      ],
      "metadata": {
        "colab": {
          "base_uri": "https://localhost:8080/"
        },
        "outputId": "3210633c-ebef-4fbc-d386-c2ec8a3c5335",
        "id": "UR1G0lTDtdwk"
      },
      "execution_count": null,
      "outputs": [
        {
          "output_type": "stream",
          "name": "stdout",
          "text": [
            "700  minutos corresponde a 11.666666666666666  horas\n",
            "500  minutos corresponde a 8.333333333333334  horas\n"
          ]
        }
      ]
    },
    {
      "cell_type": "markdown",
      "source": [
        "Minutos para horas com divisão inteira:"
      ],
      "metadata": {
        "id": "Vi3dyjpRtdwn"
      }
    },
    {
      "cell_type": "code",
      "source": [
        "minutos = 700\n",
        "horas = minutos//60\n",
        "print(minutos, \" minutos corresponde a\", horas, \"horas\")\n",
        "minutos = 500\n",
        "horas = minutos//60\n",
        "print(minutos, \" minutos corresponde a\", horas, \"horas\")"
      ],
      "metadata": {
        "colab": {
          "base_uri": "https://localhost:8080/"
        },
        "outputId": "f3746997-5b13-4e3b-f502-b6899dec8256",
        "id": "aNF0-MIKtdwo"
      },
      "execution_count": null,
      "outputs": [
        {
          "output_type": "stream",
          "name": "stdout",
          "text": [
            "700  minutos corresponde a 11 horas\n",
            "500  minutos corresponde a 8 horas\n"
          ]
        }
      ]
    },
    {
      "cell_type": "markdown",
      "source": [
        "Soma entre dois números usando input, atribuindo um valor a variável que o usuário escolher:"
      ],
      "metadata": {
        "id": "khd7HQ7Ptdwp"
      }
    },
    {
      "cell_type": "code",
      "source": [
        "num1 = int(input(\"Digite um Número \"))\n",
        "num2 = int(input(\"Digite Outro Número \"))\n",
        "soma = num1 + num2\n",
        "print(\"A soma dos números é \", soma)"
      ],
      "metadata": {
        "colab": {
          "base_uri": "https://localhost:8080/"
        },
        "outputId": "b1718c73-6092-4eca-9f73-5697ce2dafc4",
        "id": "xC7z_vNXtdwp"
      },
      "execution_count": null,
      "outputs": [
        {
          "output_type": "stream",
          "name": "stdout",
          "text": [
            "Digite um Número 45\n",
            "Digite Outro Número 9\n",
            "A soma dos números é  54\n"
          ]
        }
      ]
    },
    {
      "cell_type": "code",
      "source": [
        "num1 = float(input(\"Digite o Primeiro Número\"))\n",
        "print(num1)\n",
        "num2 = float(input(\"Digite o Primeiro Número\"))\n",
        "soma = num1+num2\n",
        "print(\"A Soma entre %.2f e %.2f é %.2f.\"%(num1, num2, soma))"
      ],
      "metadata": {
        "colab": {
          "base_uri": "https://localhost:8080/"
        },
        "outputId": "ba337cd0-8c5c-4085-ab00-114dc0411612",
        "id": "nyc_9zuqtdwq"
      },
      "execution_count": null,
      "outputs": [
        {
          "output_type": "stream",
          "name": "stdout",
          "text": [
            "Digite o Primeiro Número10\n",
            "10.0\n",
            "Digite o Primeiro Número20\n",
            "A Soma entre 10.00 e 20.00 é 30.00.\n"
          ]
        }
      ]
    },
    {
      "cell_type": "markdown",
      "source": [],
      "metadata": {
        "id": "SRGcaT5Etdwv"
      }
    },
    {
      "cell_type": "code",
      "source": [
        "salario = 1200\n",
        "porcentagem = 1.20\n",
        "novo_salario = salario * porcentagem\n",
        "print(novo_salario)"
      ],
      "metadata": {
        "colab": {
          "base_uri": "https://localhost:8080/"
        },
        "id": "AXz-wue-tjEn",
        "outputId": "f357367f-58fb-4b6b-fb8e-87f775380e4b"
      },
      "execution_count": null,
      "outputs": [
        {
          "output_type": "stream",
          "name": "stdout",
          "text": [
            "1440.0\n"
          ]
        }
      ]
    },
    {
      "cell_type": "code",
      "source": [
        "frase = \"ABCDEFGHI\"\n",
        "print(frase[1])\n",
        "print(len(frase))"
      ],
      "metadata": {
        "colab": {
          "base_uri": "https://localhost:8080/"
        },
        "id": "bPXasrzdzPu9",
        "outputId": "b6a691f4-281d-4f12-f3a2-9469a908a2ad"
      },
      "execution_count": null,
      "outputs": [
        {
          "output_type": "stream",
          "name": "stdout",
          "text": [
            "B\n",
            "9\n"
          ]
        }
      ]
    },
    {
      "cell_type": "markdown",
      "source": [],
      "metadata": {
        "id": "H98Gh7nJnJvA"
      }
    },
    {
      "cell_type": "markdown",
      "source": [],
      "metadata": {
        "id": "MRYS3pr-nOm3"
      }
    },
    {
      "cell_type": "markdown",
      "source": [
        "# **Aula 13/03/24**"
      ],
      "metadata": {
        "id": "y0F4v1jfnZ24"
      }
    },
    {
      "cell_type": "code",
      "source": [
        "produto = \"Notebook\"\n",
        "quantidade = 3\n",
        "preco = 2999.99\n",
        "disponivel = False\n",
        "\n",
        "print(\"Produto: \" + produto + \" | Quantidade: \" + str(quantidade) + \" | Preço: \" +str(preco) + \" | Disponível: \" + str(disponivel))\n",
        "\n",
        "print(\"Produto: %10s | Quantidade: %-3d | Preço: %10.2f | Disponível: %5s\" %\n",
        "(produto, quantidade, preco, str(disponivel)))\n",
        "\n",
        "print(\"Produto: {:>10} | Quantidade: {:<3} | Preço: {:>10.2f} | Disponível:{:>5}\".format(produto, quantidade, preco, disponivel))\n",
        "\n",
        "print(f\"Produto: {produto:>10} | Quantidade: {quantidade:<3} | Preço: {preco:>10.2f} | Disponível: {disponivel:>4}\")"
      ],
      "metadata": {
        "colab": {
          "base_uri": "https://localhost:8080/"
        },
        "id": "UqF3vadAvJHr",
        "outputId": "d35e56a7-50ab-44f6-977e-6eb638d326d9"
      },
      "execution_count": null,
      "outputs": [
        {
          "output_type": "stream",
          "name": "stdout",
          "text": [
            "Produto: Notebook | Quantidade: 3 | Preço: 2999.99 | Disponível: False\n",
            "Produto:   Notebook | Quantidade: 3   | Preço:    2999.99 | Disponível: False\n",
            "Produto:   Notebook | Quantidade: 3   | Preço:    2999.99 | Disponível:    0\n",
            "Produto:   Notebook | Quantidade: 3   | Preço:    2999.99 | Disponível:    0\n"
          ]
        }
      ]
    },
    {
      "cell_type": "markdown",
      "source": [
        "# **Lista de Exercício Módulo: Primeiros passos no Python**"
      ],
      "metadata": {
        "id": "ofC5P7I81uBj"
      }
    },
    {
      "cell_type": "markdown",
      "source": [
        "3. Escreva um programa em Python que atribua um valor inteiro à variável\n",
        "\"umero\" e imprima esse valor na tela."
      ],
      "metadata": {
        "id": "WSOGvzsh4y0V"
      }
    },
    {
      "cell_type": "code",
      "source": [
        "numero = 23\n",
        "print(numero)"
      ],
      "metadata": {
        "colab": {
          "base_uri": "https://localhost:8080/"
        },
        "id": "aAeJCAsy431H",
        "outputId": "03f3dc97-dad5-43f3-bb59-5832f68f8e89"
      },
      "execution_count": null,
      "outputs": [
        {
          "output_type": "stream",
          "name": "stdout",
          "text": [
            "23\n"
          ]
        }
      ]
    },
    {
      "cell_type": "markdown",
      "source": [
        "5. Escreva um programa em Python que atribua um valor do tipo float à\n",
        "variável \"peso\" e imprima o valor dela na tela."
      ],
      "metadata": {
        "id": "JEAmmcJ45DYQ"
      }
    },
    {
      "cell_type": "code",
      "source": [
        "peso = 75.40\n",
        "print(peso)"
      ],
      "metadata": {
        "colab": {
          "base_uri": "https://localhost:8080/"
        },
        "id": "mCkwrdqB5SEZ",
        "outputId": "275036b1-b875-4837-f520-821f9c425f26"
      },
      "execution_count": null,
      "outputs": [
        {
          "output_type": "stream",
          "name": "stdout",
          "text": [
            "75.4\n"
          ]
        }
      ]
    },
    {
      "cell_type": "markdown",
      "source": [
        "7. Escreva um programa em Python que atribua um valor complexo à variável\n",
        "\"numero_complexo\" e imprima esse valor na tela."
      ],
      "metadata": {
        "id": "CAAaNcd55any"
      }
    },
    {
      "cell_type": "code",
      "source": [
        "n = 18\n",
        "numero_complexo = 3*n + 10\n",
        "print(f\"O número complexo é: {numero_complexo}\")"
      ],
      "metadata": {
        "colab": {
          "base_uri": "https://localhost:8080/"
        },
        "id": "ddJLqQCm5jlg",
        "outputId": "38243846-bf45-4f13-81a1-2b408433d1a8"
      },
      "execution_count": null,
      "outputs": [
        {
          "output_type": "stream",
          "name": "stdout",
          "text": [
            "O número complexo é: 64\n"
          ]
        }
      ]
    },
    {
      "cell_type": "markdown",
      "source": [
        "9. Crie um programa em Python que atribua dois valores inteiros às variáveis\n",
        "largura e altura, e imprima a área de um retângulo utilizando esses valores.\n"
      ],
      "metadata": {
        "id": "eYUeMUo37mNy"
      }
    },
    {
      "cell_type": "code",
      "source": [
        "b = 15\n",
        "h = 5\n",
        "area = b*h\n",
        "print(f\"A área do retângulo é: {area}\")"
      ],
      "metadata": {
        "colab": {
          "base_uri": "https://localhost:8080/"
        },
        "id": "cUIDpT6K7uUo",
        "outputId": "238fd9b6-51b9-41d7-9593-4b9b036865bb"
      },
      "execution_count": null,
      "outputs": [
        {
          "output_type": "stream",
          "name": "stdout",
          "text": [
            "A área do retângulo é: 75\n"
          ]
        }
      ]
    },
    {
      "cell_type": "markdown",
      "source": [
        "11.  Crie um programa em Python que atribua dois valores inteiros às variáveis\n",
        "a e b, e imprima o resultado da multiplicação desses valores na tela."
      ],
      "metadata": {
        "id": "jKUccP_G8R3s"
      }
    },
    {
      "cell_type": "code",
      "source": [
        "a = 9\n",
        "b = 4\n",
        "multiplicacao = a*b\n",
        "print(f\"A multiplicação dos números é: {multiplicacao}\")"
      ],
      "metadata": {
        "id": "1rjOSpN08XE5",
        "colab": {
          "base_uri": "https://localhost:8080/"
        },
        "outputId": "c79a690a-ebce-416b-957d-50e0eca22cc1"
      },
      "execution_count": null,
      "outputs": [
        {
          "output_type": "stream",
          "name": "stdout",
          "text": [
            "A multiplicação dos números é: 36\n"
          ]
        }
      ]
    },
    {
      "cell_type": "code",
      "source": [
        "LIMITE_VELOCIDADE = 60\n",
        "# Solicita ao usuário para inserir a velocidade atual\n",
        "velocidade_atual = float(input(\"Digite a velocidade atual do veículo (em km/h): \"))\n",
        "mensagem = (\n",
        "\"Você está dentro do limite de velocidade.\" * (velocidade_atual <= LIMITE_VELOCIDADE) +\n",
        "\"Você está acima do limite de velocidade!\" * (velocidade_atual > LIMITE_VELOCIDADE)\n",
        ")\n",
        "# Exibe a mensagem\n",
        "print(mensagem)"
      ],
      "metadata": {
        "colab": {
          "base_uri": "https://localhost:8080/"
        },
        "id": "cvs-FTDAwYbm",
        "outputId": "49da57e2-f70e-44fe-82c7-4a4651ddf0eb"
      },
      "execution_count": null,
      "outputs": [
        {
          "output_type": "stream",
          "name": "stdout",
          "text": [
            "Digite a velocidade atual do veículo (em km/h): 45\n",
            "Você está dentro do limite de velocidade.\n"
          ]
        }
      ]
    },
    {
      "cell_type": "code",
      "source": [
        "texto = \"python é divertido\"\n",
        "indice = texto.find(\"divertido\")\n",
        "print(indice) # Saída: 10"
      ],
      "metadata": {
        "colab": {
          "base_uri": "https://localhost:8080/"
        },
        "id": "9tZ2VL0U1fUd",
        "outputId": "b92e4d3a-b5df-4851-8ce8-aeeea4726d4c"
      },
      "execution_count": null,
      "outputs": [
        {
          "output_type": "stream",
          "name": "stdout",
          "text": [
            "9\n"
          ]
        }
      ]
    },
    {
      "cell_type": "code",
      "source": [
        "texto = \"python é divertido\"\n",
        "comeca_com_python = texto.startswith(\"python\")\n",
        "print(comeca_com_python) # Saída:\n",
        "True"
      ],
      "metadata": {
        "colab": {
          "base_uri": "https://localhost:8080/"
        },
        "id": "GYxs0QNY2JA9",
        "outputId": "e570de73-b349-40fe-a762-db5eab35fd38"
      },
      "execution_count": null,
      "outputs": [
        {
          "output_type": "stream",
          "name": "stdout",
          "text": [
            "True\n"
          ]
        },
        {
          "output_type": "execute_result",
          "data": {
            "text/plain": [
              "True"
            ]
          },
          "metadata": {},
          "execution_count": 6
        }
      ]
    },
    {
      "cell_type": "code",
      "source": [
        "texto = \"python é divertido\"\n",
        "termina_com_divertido = texto.endswith(\"divertido\")\n",
        "print(termina_com_divertido) #\n",
        "Saída: True"
      ],
      "metadata": {
        "colab": {
          "base_uri": "https://localhost:8080/"
        },
        "id": "7xpYgaMD2MFN",
        "outputId": "08981a3d-b6ef-4c5c-bc64-9a8211867066"
      },
      "execution_count": null,
      "outputs": [
        {
          "output_type": "stream",
          "name": "stdout",
          "text": [
            "True\n"
          ]
        }
      ]
    },
    {
      "cell_type": "code",
      "source": [
        "palavras = [\"python\", \"é\", \"divertido\"]\n",
        "frase = \" \".join(palavras)\n",
        "print(frase) # Saída: \"python é divertido\""
      ],
      "metadata": {
        "colab": {
          "base_uri": "https://localhost:8080/"
        },
        "id": "FA3v2Cus3uhJ",
        "outputId": "081ccf32-0931-48fc-dc2d-1d5c69b116b6"
      },
      "execution_count": null,
      "outputs": [
        {
          "output_type": "stream",
          "name": "stdout",
          "text": [
            "python é divertido\n"
          ]
        }
      ]
    },
    {
      "cell_type": "markdown",
      "source": [
        "# Tutle"
      ],
      "metadata": {
        "id": "8K3T9YoW1__t"
      }
    },
    {
      "cell_type": "code",
      "source": [
        "pip install ColabTurtle"
      ],
      "metadata": {
        "colab": {
          "base_uri": "https://localhost:8080/"
        },
        "id": "6SPLv73StNZA",
        "outputId": "a0cb8a7f-0fac-4103-ed33-7329c17b1321"
      },
      "execution_count": null,
      "outputs": [
        {
          "output_type": "stream",
          "name": "stdout",
          "text": [
            "Collecting ColabTurtle\n",
            "  Downloading ColabTurtle-2.1.0.tar.gz (6.8 kB)\n",
            "  Preparing metadata (setup.py) ... \u001b[?25l\u001b[?25hdone\n",
            "Building wheels for collected packages: ColabTurtle\n",
            "  Building wheel for ColabTurtle (setup.py) ... \u001b[?25l\u001b[?25hdone\n",
            "  Created wheel for ColabTurtle: filename=ColabTurtle-2.1.0-py3-none-any.whl size=7642 sha256=6ec81d503e6bcde744cc14f1cce6a17c1b4ae5f04a44fab1d714a6f0ad47ab24\n",
            "  Stored in directory: /root/.cache/pip/wheels/f6/9e/81/137e7da25129474562d30f8660be599e5c8d79228cb747e5b9\n",
            "Successfully built ColabTurtle\n",
            "Installing collected packages: ColabTurtle\n",
            "Successfully installed ColabTurtle-2.1.0\n"
          ]
        }
      ]
    },
    {
      "cell_type": "code",
      "source": [
        "from ColabTurtle.Turtle import *\n",
        "import ColabTurtle.Turtle as cursor\n",
        "cursor.initializeTurtle(initial_speed=5)\n",
        "cursor.fd(100)\n",
        "cursor.bk(0)\n",
        "cursor.right(90)\n",
        "cursor.fd(100)\n",
        "cursor.right(90)\n",
        "cursor.fd(100)\n",
        "cursor.right(90)\n",
        "cursor.fd(100)"
      ],
      "metadata": {
        "colab": {
          "base_uri": "https://localhost:8080/",
          "height": 541
        },
        "id": "m_99tOaP2GRE",
        "outputId": "947f6043-a23a-4d18-fc22-bc4fb3f349cc"
      },
      "execution_count": null,
      "outputs": [
        {
          "output_type": "display_data",
          "data": {
            "text/plain": [
              "<IPython.core.display.HTML object>"
            ],
            "text/html": [
              "\n",
              "      <svg width=\"800\" height=\"500\">\n",
              "        <rect width=\"100%\" height=\"100%\" fill=\"black\"/>\n",
              "        <line x1=\"400\" y1=\"250\" x2=\"400.0\" y2=\"150.0\" stroke-linecap=\"round\" style=\"stroke:white;stroke-width:4\"/><line x1=\"400.0\" y1=\"150.0\" x2=\"400.0\" y2=\"150.0\" stroke-linecap=\"round\" style=\"stroke:white;stroke-width:4\"/><line x1=\"400.0\" y1=\"150.0\" x2=\"500.0\" y2=\"150.0\" stroke-linecap=\"round\" style=\"stroke:white;stroke-width:4\"/><line x1=\"500.0\" y1=\"150.0\" x2=\"500.0\" y2=\"250.0\" stroke-linecap=\"round\" style=\"stroke:white;stroke-width:4\"/><line x1=\"500.0\" y1=\"250.0\" x2=\"400.0\" y2=\"250.0\" stroke-linecap=\"round\" style=\"stroke:white;stroke-width:4\"/>\n",
              "        <g visibility=visible transform=\"rotate(270,400.0,250.0) translate(382.0, 232.0)\">\n",
              "<path style=\" stroke:none;fill-rule:evenodd;fill:white;fill-opacity:1;\" d=\"M 18.214844 0.632812 C 16.109375 1.800781 15.011719 4.074219 15.074219 7.132812 L 15.085938 7.652344 L 14.785156 7.496094 C 13.476562 6.824219 11.957031 6.671875 10.40625 7.066406 C 8.46875 7.550781 6.515625 9.15625 4.394531 11.992188 C 3.0625 13.777344 2.679688 14.636719 3.042969 15.027344 L 3.15625 15.152344 L 3.519531 15.152344 C 4.238281 15.152344 4.828125 14.886719 8.1875 13.039062 C 9.386719 12.378906 10.371094 11.839844 10.378906 11.839844 C 10.386719 11.839844 10.355469 11.929688 10.304688 12.035156 C 9.832031 13.09375 9.257812 14.820312 8.96875 16.078125 C 7.914062 20.652344 8.617188 24.53125 11.070312 27.660156 C 11.351562 28.015625 11.363281 27.914062 10.972656 28.382812 C 8.925781 30.84375 7.945312 33.28125 8.238281 35.1875 C 8.289062 35.527344 8.28125 35.523438 8.917969 35.523438 C 10.941406 35.523438 13.074219 34.207031 15.136719 31.6875 C 15.359375 31.417969 15.328125 31.425781 15.5625 31.574219 C 16.292969 32.042969 18.023438 32.964844 18.175781 32.964844 C 18.335938 32.964844 19.941406 32.210938 20.828125 31.71875 C 20.996094 31.625 21.136719 31.554688 21.136719 31.558594 C 21.203125 31.664062 21.898438 32.414062 22.222656 32.730469 C 23.835938 34.300781 25.5625 35.132812 27.582031 35.300781 C 27.90625 35.328125 27.9375 35.308594 28.007812 34.984375 C 28.382812 33.242188 27.625 30.925781 25.863281 28.425781 L 25.542969 27.96875 L 25.699219 27.785156 C 28.945312 23.960938 29.132812 18.699219 26.257812 11.96875 L 26.207031 11.84375 L 27.945312 12.703125 C 31.53125 14.476562 32.316406 14.800781 33.03125 14.800781 C 33.976562 14.800781 33.78125 13.9375 32.472656 12.292969 C 28.519531 7.355469 25.394531 5.925781 21.921875 7.472656 L 21.558594 7.636719 L 21.578125 7.542969 C 21.699219 6.992188 21.761719 5.742188 21.699219 5.164062 C 21.496094 3.296875 20.664062 1.964844 19.003906 0.855469 C 18.480469 0.503906 18.457031 0.5 18.214844 0.632812\"/>\n",
              "</g>\n",
              "      </svg>\n",
              "    "
            ]
          },
          "metadata": {}
        }
      ]
    },
    {
      "cell_type": "code",
      "source": [
        "from ColabTurtle.Turtle import *\n",
        "import ColabTurtle.Turtle as cursor\n",
        "cursor.initializeTurtle(initial_speed=5)\n",
        "cursor.fd(10)\n",
        "cursor.right(5)\n",
        "cursor.fd(10)\n",
        "cursor.right(5)\n",
        "cursor.fd(10)\n",
        "cursor.right(5)\n",
        "cursor.fd(10)\n",
        "cursor.right(5)\n",
        "cursor.fd(10)\n",
        "cursor.right(5)\n",
        "cursor.fd(10)\n",
        "cursor.right(5)\n",
        "cursor.fd(10)\n",
        "cursor.right(5)\n",
        "cursor.fd(10)\n",
        "cursor.right(5)\n",
        "cursor.fd(10)\n",
        "cursor.right(5)\n",
        "cursor.fd(10)\n",
        "cursor.right(5)\n",
        "cursor.fd(10)\n",
        "cursor.right(5)\n",
        "cursor.fd(10)\n",
        "cursor.right(5)\n",
        "cursor.fd(10)\n",
        "cursor.right(5)\n",
        "cursor.fd(10)\n",
        "cursor.right(5)\n",
        "cursor.fd(10)\n",
        "cursor.right(5)\n",
        "cursor.fd(10)\n",
        "cursor.right(5)\n",
        "cursor.fd(10)\n",
        "cursor.right(5)\n",
        "cursor.fd(10)\n",
        "cursor.right(5)\n",
        "cursor.fd(10)\n",
        "cursor.right(5)\n",
        "cursor.fd(10)\n",
        "cursor.right(5)\n",
        "cursor.fd(10)\n",
        "cursor.right(5)\n",
        "cursor.fd(10)\n",
        "cursor.right(5)\n",
        "cursor.fd(10)\n",
        "cursor.right(5)\n",
        "cursor.fd(10)\n",
        "cursor.right(5)\n",
        "cursor.fd(10)\n",
        "cursor.right(5)\n",
        "cursor.fd(10)\n",
        "cursor.right(5)\n",
        "cursor.fd(10)\n",
        "cursor.right(5)\n",
        "cursor.fd(10)\n",
        "cursor.right(5)\n",
        "cursor.fd(10)\n",
        "cursor.right(5)\n",
        "cursor.fd(10)\n",
        "cursor.right(5)\n",
        "cursor.fd(10)\n",
        "cursor.right(5)\n",
        "cursor.fd(10)\n",
        "cursor.right(5)\n",
        "cursor.fd(10)\n",
        "cursor.right(5)\n",
        "cursor.fd(10)\n",
        "cursor.right(5)\n",
        "cursor.fd(10)\n",
        "cursor.right(5)\n",
        "cursor.fd(10)\n",
        "cursor.right(5)\n",
        "cursor.fd(10)\n",
        "cursor.right(5)\n",
        "cursor.fd(10)\n",
        "cursor.right(5)\n",
        "cursor.fd(10)\n",
        "cursor.right(5)\n",
        "cursor.fd(10)\n",
        "cursor.right(5)\n",
        "cursor.fd(10)\n",
        "cursor.right(5)\n",
        "cursor.fd(10)\n",
        "cursor.right(5)\n",
        "cursor.fd(10)\n",
        "cursor.right(5)\n",
        "cursor.fd(10)\n",
        "cursor.right(5)\n",
        "cursor.fd(10)\n",
        "cursor.right(5)\n",
        "cursor.fd(10)\n",
        "cursor.right(5)\n",
        "cursor.fd(10)\n",
        "cursor.right(5)\n",
        "cursor.fd(10)\n",
        "cursor.right(5)\n",
        "cursor.fd(10)\n",
        "cursor.right(5)\n",
        "cursor.fd(10)\n",
        "cursor.right(5)\n",
        "cursor.fd(10)\n",
        "cursor.right(5)\n",
        "cursor.fd(10)\n",
        "cursor.right(5)\n",
        "cursor.fd(10)\n",
        "cursor.right(5)\n",
        "cursor.fd(10)\n",
        "cursor.right(5)\n",
        "cursor.fd(10)\n",
        "cursor.right(5)\n",
        "cursor.fd(10)\n",
        "cursor.right(5)\n",
        "cursor.fd(10)\n",
        "cursor.right(5)\n",
        "cursor.fd(10)\n",
        "cursor.right(5)\n",
        "cursor.fd(10)\n",
        "cursor.right(5)\n",
        "cursor.fd(10)\n",
        "cursor.right(5)\n",
        "cursor.fd(10)\n",
        "cursor.right(5)\n",
        "cursor.fd(10)\n",
        "cursor.right(5)\n",
        "cursor.fd(10)\n",
        "cursor.right(5)\n",
        "cursor.fd(10)\n",
        "cursor.right(5)\n",
        "cursor.fd(10)\n",
        "cursor.right(5)\n",
        "cursor.fd(10)\n",
        "cursor.right(5)\n",
        "cursor.fd(10)\n",
        "cursor.right(5)\n",
        "cursor.fd(10)\n",
        "cursor.right(5)\n",
        "cursor.fd(10)\n",
        "cursor.right(5)\n",
        "cursor.fd(10)\n",
        "cursor.right(5)\n",
        "cursor.fd(10)\n",
        "cursor.right(5)\n",
        "cursor.fd(10)\n",
        "\n",
        "\n",
        "\n",
        "\n",
        "\n",
        "\n",
        "\n"
      ],
      "metadata": {
        "colab": {
          "base_uri": "https://localhost:8080/",
          "height": 541
        },
        "id": "tCMKCAAT4SsX",
        "outputId": "57a5990a-2d43-41dd-9b0b-c0d5dce51861"
      },
      "execution_count": null,
      "outputs": [
        {
          "output_type": "display_data",
          "data": {
            "text/plain": [
              "<IPython.core.display.HTML object>"
            ],
            "text/html": [
              "\n",
              "      <svg width=\"800\" height=\"500\">\n",
              "        <rect width=\"100%\" height=\"100%\" fill=\"black\"/>\n",
              "        <line x1=\"400\" y1=\"250\" x2=\"400.0\" y2=\"240.0\" stroke-linecap=\"round\" style=\"stroke:white;stroke-width:4\"/><line x1=\"400.0\" y1=\"240.0\" x2=\"400.872\" y2=\"230.038\" stroke-linecap=\"round\" style=\"stroke:white;stroke-width:4\"/><line x1=\"400.872\" y1=\"230.038\" x2=\"402.608\" y2=\"220.19\" stroke-linecap=\"round\" style=\"stroke:white;stroke-width:4\"/><line x1=\"402.608\" y1=\"220.19\" x2=\"405.196\" y2=\"210.531\" stroke-linecap=\"round\" style=\"stroke:white;stroke-width:4\"/><line x1=\"405.196\" y1=\"210.531\" x2=\"408.616\" y2=\"201.134\" stroke-linecap=\"round\" style=\"stroke:white;stroke-width:4\"/><line x1=\"408.616\" y1=\"201.134\" x2=\"412.842\" y2=\"192.071\" stroke-linecap=\"round\" style=\"stroke:white;stroke-width:4\"/><line x1=\"412.842\" y1=\"192.071\" x2=\"417.842\" y2=\"183.411\" stroke-linecap=\"round\" style=\"stroke:white;stroke-width:4\"/><line x1=\"417.842\" y1=\"183.411\" x2=\"423.578\" y2=\"175.219\" stroke-linecap=\"round\" style=\"stroke:white;stroke-width:4\"/><line x1=\"423.578\" y1=\"175.219\" x2=\"430.006\" y2=\"167.559\" stroke-linecap=\"round\" style=\"stroke:white;stroke-width:4\"/><line x1=\"430.006\" y1=\"167.559\" x2=\"437.077\" y2=\"160.488\" stroke-linecap=\"round\" style=\"stroke:white;stroke-width:4\"/><line x1=\"437.077\" y1=\"160.488\" x2=\"444.737\" y2=\"154.06\" stroke-linecap=\"round\" style=\"stroke:white;stroke-width:4\"/><line x1=\"444.737\" y1=\"154.06\" x2=\"452.929\" y2=\"148.324\" stroke-linecap=\"round\" style=\"stroke:white;stroke-width:4\"/><line x1=\"452.929\" y1=\"148.324\" x2=\"461.589\" y2=\"143.324\" stroke-linecap=\"round\" style=\"stroke:white;stroke-width:4\"/><line x1=\"461.589\" y1=\"143.324\" x2=\"470.652\" y2=\"139.098\" stroke-linecap=\"round\" style=\"stroke:white;stroke-width:4\"/><line x1=\"470.652\" y1=\"139.098\" x2=\"480.049\" y2=\"135.678\" stroke-linecap=\"round\" style=\"stroke:white;stroke-width:4\"/><line x1=\"480.049\" y1=\"135.678\" x2=\"489.708\" y2=\"133.09\" stroke-linecap=\"round\" style=\"stroke:white;stroke-width:4\"/><line x1=\"489.708\" y1=\"133.09\" x2=\"499.556\" y2=\"131.354\" stroke-linecap=\"round\" style=\"stroke:white;stroke-width:4\"/><line x1=\"499.556\" y1=\"131.354\" x2=\"509.518\" y2=\"130.482\" stroke-linecap=\"round\" style=\"stroke:white;stroke-width:4\"/><line x1=\"509.518\" y1=\"130.482\" x2=\"519.518\" y2=\"130.482\" stroke-linecap=\"round\" style=\"stroke:white;stroke-width:4\"/><line x1=\"519.518\" y1=\"130.482\" x2=\"529.48\" y2=\"131.354\" stroke-linecap=\"round\" style=\"stroke:white;stroke-width:4\"/><line x1=\"529.48\" y1=\"131.354\" x2=\"539.328\" y2=\"133.09\" stroke-linecap=\"round\" style=\"stroke:white;stroke-width:4\"/><line x1=\"539.328\" y1=\"133.09\" x2=\"548.987\" y2=\"135.678\" stroke-linecap=\"round\" style=\"stroke:white;stroke-width:4\"/><line x1=\"548.987\" y1=\"135.678\" x2=\"558.384\" y2=\"139.098\" stroke-linecap=\"round\" style=\"stroke:white;stroke-width:4\"/><line x1=\"558.384\" y1=\"139.098\" x2=\"567.447\" y2=\"143.324\" stroke-linecap=\"round\" style=\"stroke:white;stroke-width:4\"/><line x1=\"567.447\" y1=\"143.324\" x2=\"576.107\" y2=\"148.324\" stroke-linecap=\"round\" style=\"stroke:white;stroke-width:4\"/><line x1=\"576.107\" y1=\"148.324\" x2=\"584.299\" y2=\"154.06\" stroke-linecap=\"round\" style=\"stroke:white;stroke-width:4\"/><line x1=\"584.299\" y1=\"154.06\" x2=\"591.959\" y2=\"160.488\" stroke-linecap=\"round\" style=\"stroke:white;stroke-width:4\"/><line x1=\"591.959\" y1=\"160.488\" x2=\"599.03\" y2=\"167.559\" stroke-linecap=\"round\" style=\"stroke:white;stroke-width:4\"/><line x1=\"599.03\" y1=\"167.559\" x2=\"605.458\" y2=\"175.219\" stroke-linecap=\"round\" style=\"stroke:white;stroke-width:4\"/><line x1=\"605.458\" y1=\"175.219\" x2=\"611.194\" y2=\"183.411\" stroke-linecap=\"round\" style=\"stroke:white;stroke-width:4\"/><line x1=\"611.194\" y1=\"183.411\" x2=\"616.194\" y2=\"192.071\" stroke-linecap=\"round\" style=\"stroke:white;stroke-width:4\"/><line x1=\"616.194\" y1=\"192.071\" x2=\"620.42\" y2=\"201.134\" stroke-linecap=\"round\" style=\"stroke:white;stroke-width:4\"/><line x1=\"620.42\" y1=\"201.134\" x2=\"623.84\" y2=\"210.531\" stroke-linecap=\"round\" style=\"stroke:white;stroke-width:4\"/><line x1=\"623.84\" y1=\"210.531\" x2=\"626.428\" y2=\"220.19\" stroke-linecap=\"round\" style=\"stroke:white;stroke-width:4\"/><line x1=\"626.428\" y1=\"220.19\" x2=\"628.164\" y2=\"230.038\" stroke-linecap=\"round\" style=\"stroke:white;stroke-width:4\"/><line x1=\"628.164\" y1=\"230.038\" x2=\"629.036\" y2=\"240.0\" stroke-linecap=\"round\" style=\"stroke:white;stroke-width:4\"/><line x1=\"629.036\" y1=\"240.0\" x2=\"629.036\" y2=\"250.0\" stroke-linecap=\"round\" style=\"stroke:white;stroke-width:4\"/><line x1=\"629.036\" y1=\"250.0\" x2=\"628.164\" y2=\"259.962\" stroke-linecap=\"round\" style=\"stroke:white;stroke-width:4\"/><line x1=\"628.164\" y1=\"259.962\" x2=\"626.428\" y2=\"269.81\" stroke-linecap=\"round\" style=\"stroke:white;stroke-width:4\"/><line x1=\"626.428\" y1=\"269.81\" x2=\"623.84\" y2=\"279.469\" stroke-linecap=\"round\" style=\"stroke:white;stroke-width:4\"/><line x1=\"623.84\" y1=\"279.469\" x2=\"620.42\" y2=\"288.866\" stroke-linecap=\"round\" style=\"stroke:white;stroke-width:4\"/><line x1=\"620.42\" y1=\"288.866\" x2=\"616.194\" y2=\"297.929\" stroke-linecap=\"round\" style=\"stroke:white;stroke-width:4\"/><line x1=\"616.194\" y1=\"297.929\" x2=\"611.194\" y2=\"306.589\" stroke-linecap=\"round\" style=\"stroke:white;stroke-width:4\"/><line x1=\"611.194\" y1=\"306.589\" x2=\"605.458\" y2=\"314.781\" stroke-linecap=\"round\" style=\"stroke:white;stroke-width:4\"/><line x1=\"605.458\" y1=\"314.781\" x2=\"599.03\" y2=\"322.441\" stroke-linecap=\"round\" style=\"stroke:white;stroke-width:4\"/><line x1=\"599.03\" y1=\"322.441\" x2=\"591.959\" y2=\"329.512\" stroke-linecap=\"round\" style=\"stroke:white;stroke-width:4\"/><line x1=\"591.959\" y1=\"329.512\" x2=\"584.299\" y2=\"335.94\" stroke-linecap=\"round\" style=\"stroke:white;stroke-width:4\"/><line x1=\"584.299\" y1=\"335.94\" x2=\"576.107\" y2=\"341.676\" stroke-linecap=\"round\" style=\"stroke:white;stroke-width:4\"/><line x1=\"576.107\" y1=\"341.676\" x2=\"567.447\" y2=\"346.676\" stroke-linecap=\"round\" style=\"stroke:white;stroke-width:4\"/><line x1=\"567.447\" y1=\"346.676\" x2=\"558.384\" y2=\"350.902\" stroke-linecap=\"round\" style=\"stroke:white;stroke-width:4\"/><line x1=\"558.384\" y1=\"350.902\" x2=\"548.987\" y2=\"354.322\" stroke-linecap=\"round\" style=\"stroke:white;stroke-width:4\"/><line x1=\"548.987\" y1=\"354.322\" x2=\"539.328\" y2=\"356.91\" stroke-linecap=\"round\" style=\"stroke:white;stroke-width:4\"/><line x1=\"539.328\" y1=\"356.91\" x2=\"529.48\" y2=\"358.646\" stroke-linecap=\"round\" style=\"stroke:white;stroke-width:4\"/><line x1=\"529.48\" y1=\"358.646\" x2=\"519.518\" y2=\"359.518\" stroke-linecap=\"round\" style=\"stroke:white;stroke-width:4\"/><line x1=\"519.518\" y1=\"359.518\" x2=\"509.518\" y2=\"359.518\" stroke-linecap=\"round\" style=\"stroke:white;stroke-width:4\"/><line x1=\"509.518\" y1=\"359.518\" x2=\"499.556\" y2=\"358.646\" stroke-linecap=\"round\" style=\"stroke:white;stroke-width:4\"/><line x1=\"499.556\" y1=\"358.646\" x2=\"489.708\" y2=\"356.91\" stroke-linecap=\"round\" style=\"stroke:white;stroke-width:4\"/><line x1=\"489.708\" y1=\"356.91\" x2=\"480.049\" y2=\"354.322\" stroke-linecap=\"round\" style=\"stroke:white;stroke-width:4\"/><line x1=\"480.049\" y1=\"354.322\" x2=\"470.652\" y2=\"350.902\" stroke-linecap=\"round\" style=\"stroke:white;stroke-width:4\"/><line x1=\"470.652\" y1=\"350.902\" x2=\"461.589\" y2=\"346.676\" stroke-linecap=\"round\" style=\"stroke:white;stroke-width:4\"/><line x1=\"461.589\" y1=\"346.676\" x2=\"452.929\" y2=\"341.676\" stroke-linecap=\"round\" style=\"stroke:white;stroke-width:4\"/><line x1=\"452.929\" y1=\"341.676\" x2=\"444.737\" y2=\"335.94\" stroke-linecap=\"round\" style=\"stroke:white;stroke-width:4\"/><line x1=\"444.737\" y1=\"335.94\" x2=\"437.077\" y2=\"329.512\" stroke-linecap=\"round\" style=\"stroke:white;stroke-width:4\"/><line x1=\"437.077\" y1=\"329.512\" x2=\"430.006\" y2=\"322.441\" stroke-linecap=\"round\" style=\"stroke:white;stroke-width:4\"/><line x1=\"430.006\" y1=\"322.441\" x2=\"423.578\" y2=\"314.781\" stroke-linecap=\"round\" style=\"stroke:white;stroke-width:4\"/><line x1=\"423.578\" y1=\"314.781\" x2=\"417.842\" y2=\"306.589\" stroke-linecap=\"round\" style=\"stroke:white;stroke-width:4\"/><line x1=\"417.842\" y1=\"306.589\" x2=\"412.842\" y2=\"297.929\" stroke-linecap=\"round\" style=\"stroke:white;stroke-width:4\"/><line x1=\"412.842\" y1=\"297.929\" x2=\"408.616\" y2=\"288.866\" stroke-linecap=\"round\" style=\"stroke:white;stroke-width:4\"/><line x1=\"408.616\" y1=\"288.866\" x2=\"405.196\" y2=\"279.469\" stroke-linecap=\"round\" style=\"stroke:white;stroke-width:4\"/><line x1=\"405.196\" y1=\"279.469\" x2=\"402.608\" y2=\"269.81\" stroke-linecap=\"round\" style=\"stroke:white;stroke-width:4\"/><line x1=\"402.608\" y1=\"269.81\" x2=\"400.872\" y2=\"259.962\" stroke-linecap=\"round\" style=\"stroke:white;stroke-width:4\"/><line x1=\"400.872\" y1=\"259.962\" x2=\"400.0\" y2=\"250.0\" stroke-linecap=\"round\" style=\"stroke:white;stroke-width:4\"/>\n",
              "        <g visibility=visible transform=\"rotate(355,400.0,250.0) translate(382.0, 232.0)\">\n",
              "<path style=\" stroke:none;fill-rule:evenodd;fill:white;fill-opacity:1;\" d=\"M 18.214844 0.632812 C 16.109375 1.800781 15.011719 4.074219 15.074219 7.132812 L 15.085938 7.652344 L 14.785156 7.496094 C 13.476562 6.824219 11.957031 6.671875 10.40625 7.066406 C 8.46875 7.550781 6.515625 9.15625 4.394531 11.992188 C 3.0625 13.777344 2.679688 14.636719 3.042969 15.027344 L 3.15625 15.152344 L 3.519531 15.152344 C 4.238281 15.152344 4.828125 14.886719 8.1875 13.039062 C 9.386719 12.378906 10.371094 11.839844 10.378906 11.839844 C 10.386719 11.839844 10.355469 11.929688 10.304688 12.035156 C 9.832031 13.09375 9.257812 14.820312 8.96875 16.078125 C 7.914062 20.652344 8.617188 24.53125 11.070312 27.660156 C 11.351562 28.015625 11.363281 27.914062 10.972656 28.382812 C 8.925781 30.84375 7.945312 33.28125 8.238281 35.1875 C 8.289062 35.527344 8.28125 35.523438 8.917969 35.523438 C 10.941406 35.523438 13.074219 34.207031 15.136719 31.6875 C 15.359375 31.417969 15.328125 31.425781 15.5625 31.574219 C 16.292969 32.042969 18.023438 32.964844 18.175781 32.964844 C 18.335938 32.964844 19.941406 32.210938 20.828125 31.71875 C 20.996094 31.625 21.136719 31.554688 21.136719 31.558594 C 21.203125 31.664062 21.898438 32.414062 22.222656 32.730469 C 23.835938 34.300781 25.5625 35.132812 27.582031 35.300781 C 27.90625 35.328125 27.9375 35.308594 28.007812 34.984375 C 28.382812 33.242188 27.625 30.925781 25.863281 28.425781 L 25.542969 27.96875 L 25.699219 27.785156 C 28.945312 23.960938 29.132812 18.699219 26.257812 11.96875 L 26.207031 11.84375 L 27.945312 12.703125 C 31.53125 14.476562 32.316406 14.800781 33.03125 14.800781 C 33.976562 14.800781 33.78125 13.9375 32.472656 12.292969 C 28.519531 7.355469 25.394531 5.925781 21.921875 7.472656 L 21.558594 7.636719 L 21.578125 7.542969 C 21.699219 6.992188 21.761719 5.742188 21.699219 5.164062 C 21.496094 3.296875 20.664062 1.964844 19.003906 0.855469 C 18.480469 0.503906 18.457031 0.5 18.214844 0.632812\"/>\n",
              "</g>\n",
              "      </svg>\n",
              "    "
            ]
          },
          "metadata": {}
        }
      ]
    },
    {
      "cell_type": "code",
      "source": [
        "from ColabTurtle.Turtle import *\n",
        "import ColabTurtle.Turtle as cursor\n",
        "cursor.initializeTurtle(initial_speed=5)\n",
        "cursor.up()\n",
        "cursor.left(90)\n",
        "cursor.fd(200)\n",
        "cursor.left(90)\n",
        "cursor.fd(100)\n",
        "cursor.down()\n",
        "cursor.left(145)\n",
        "color(\"#1E90FF\")\n",
        "cursor.fd(300)\n",
        "cursor.right(110)\n",
        "cursor.fd(300)\n",
        "cursor.right(150)\n",
        "cursor.fd(420)\n",
        "cursor.left(205)\n",
        "cursor.fd(400)\n",
        "cursor.right(155)\n",
        "cursor.fd(400)\n"
      ],
      "metadata": {
        "colab": {
          "base_uri": "https://localhost:8080/",
          "height": 541
        },
        "id": "yrcFf-oG8f11",
        "outputId": "07ddd0cd-cc14-4006-ea8e-2b9b7841c72b"
      },
      "execution_count": null,
      "outputs": [
        {
          "output_type": "display_data",
          "data": {
            "text/plain": [
              "<IPython.core.display.HTML object>"
            ],
            "text/html": [
              "\n",
              "      <svg width=\"800\" height=\"500\">\n",
              "        <rect width=\"100%\" height=\"100%\" fill=\"black\"/>\n",
              "        <line x1=\"200.0\" y1=\"350.0\" x2=\"372.073\" y2=\"104.254\" stroke-linecap=\"round\" style=\"stroke:#1e90ff;stroke-width:4\"/><line x1=\"372.073\" y1=\"104.254\" x2=\"544.146\" y2=\"350.0\" stroke-linecap=\"round\" style=\"stroke:#1e90ff;stroke-width:4\"/><line x1=\"544.146\" y1=\"350.0\" x2=\"163.497\" y2=\"172.5\" stroke-linecap=\"round\" style=\"stroke:#1e90ff;stroke-width:4\"/><line x1=\"163.497\" y1=\"172.5\" x2=\"563.497\" y2=\"172.5\" stroke-linecap=\"round\" style=\"stroke:#1e90ff;stroke-width:4\"/><line x1=\"563.497\" y1=\"172.5\" x2=\"200.974\" y2=\"341.547\" stroke-linecap=\"round\" style=\"stroke:#1e90ff;stroke-width:4\"/>\n",
              "        <g visibility=visible transform=\"rotate(245,200.974,341.547) translate(182.974, 323.547)\">\n",
              "<path style=\" stroke:none;fill-rule:evenodd;fill:#1e90ff;fill-opacity:1;\" d=\"M 18.214844 0.632812 C 16.109375 1.800781 15.011719 4.074219 15.074219 7.132812 L 15.085938 7.652344 L 14.785156 7.496094 C 13.476562 6.824219 11.957031 6.671875 10.40625 7.066406 C 8.46875 7.550781 6.515625 9.15625 4.394531 11.992188 C 3.0625 13.777344 2.679688 14.636719 3.042969 15.027344 L 3.15625 15.152344 L 3.519531 15.152344 C 4.238281 15.152344 4.828125 14.886719 8.1875 13.039062 C 9.386719 12.378906 10.371094 11.839844 10.378906 11.839844 C 10.386719 11.839844 10.355469 11.929688 10.304688 12.035156 C 9.832031 13.09375 9.257812 14.820312 8.96875 16.078125 C 7.914062 20.652344 8.617188 24.53125 11.070312 27.660156 C 11.351562 28.015625 11.363281 27.914062 10.972656 28.382812 C 8.925781 30.84375 7.945312 33.28125 8.238281 35.1875 C 8.289062 35.527344 8.28125 35.523438 8.917969 35.523438 C 10.941406 35.523438 13.074219 34.207031 15.136719 31.6875 C 15.359375 31.417969 15.328125 31.425781 15.5625 31.574219 C 16.292969 32.042969 18.023438 32.964844 18.175781 32.964844 C 18.335938 32.964844 19.941406 32.210938 20.828125 31.71875 C 20.996094 31.625 21.136719 31.554688 21.136719 31.558594 C 21.203125 31.664062 21.898438 32.414062 22.222656 32.730469 C 23.835938 34.300781 25.5625 35.132812 27.582031 35.300781 C 27.90625 35.328125 27.9375 35.308594 28.007812 34.984375 C 28.382812 33.242188 27.625 30.925781 25.863281 28.425781 L 25.542969 27.96875 L 25.699219 27.785156 C 28.945312 23.960938 29.132812 18.699219 26.257812 11.96875 L 26.207031 11.84375 L 27.945312 12.703125 C 31.53125 14.476562 32.316406 14.800781 33.03125 14.800781 C 33.976562 14.800781 33.78125 13.9375 32.472656 12.292969 C 28.519531 7.355469 25.394531 5.925781 21.921875 7.472656 L 21.558594 7.636719 L 21.578125 7.542969 C 21.699219 6.992188 21.761719 5.742188 21.699219 5.164062 C 21.496094 3.296875 20.664062 1.964844 19.003906 0.855469 C 18.480469 0.503906 18.457031 0.5 18.214844 0.632812\"/>\n",
              "</g>\n",
              "      </svg>\n",
              "    "
            ]
          },
          "metadata": {}
        }
      ]
    },
    {
      "cell_type": "code",
      "source": [
        "from ColabTurtle.Turtle import *\n",
        "import ColabTurtle.Turtle as cursor\n",
        "cursor.initializeTurtle(initial_speed=5)\n",
        "cursor.up()\n",
        "cursor.fd(100)\n",
        "cursor.down()\n",
        "color(\"#FF0000\")\n",
        "cursor.left(90)\n",
        "cursor.bk(100)\n",
        "cursor.fd(200)\n",
        "cursor.left(90)\n",
        "cursor.fd(280)\n",
        "cursor.left(90)\n",
        "cursor.fd(200)\n",
        "cursor.left(90)\n",
        "cursor.fd(280)\n",
        "cursor.right(90)\n",
        "cursor.fd(20)\n",
        "cursor.left(90)\n",
        "cursor.fd(40)\n",
        "cursor.left(90)\n",
        "cursor.fd(80)\n",
        "cursor.right(90)\n",
        "color(\"#FFD700\")\n",
        "cursor.fd(20)\n",
        "cursor.left(90)\n",
        "cursor.fd(80)\n",
        "cursor.left(90)\n",
        "cursor.fd(20)\n",
        "cursor.left(90)\n",
        "color(\"#FF0000\")\n",
        "cursor.fd(80)\n",
        "cursor.bk(160)\n",
        "cursor.right(90)\n",
        "cursor.fd(40)\n",
        "cursor.left(90)\n",
        "cursor.fd(110)\n",
        "cursor.right(90)\n",
        "color(\"#FFD700\")\n",
        "cursor.fd(280)\n",
        "cursor.left(90)\n",
        "cursor.fd(20)\n",
        "cursor.left(90)\n",
        "cursor.fd(280)\n"
      ],
      "metadata": {
        "colab": {
          "base_uri": "https://localhost:8080/",
          "height": 541
        },
        "id": "3rbrcvU40cwn",
        "outputId": "2fff7ff3-816d-4dc7-aac8-068caa093ba7"
      },
      "execution_count": null,
      "outputs": [
        {
          "output_type": "display_data",
          "data": {
            "text/plain": [
              "<IPython.core.display.HTML object>"
            ],
            "text/html": [
              "\n",
              "      <svg width=\"800\" height=\"500\">\n",
              "        <rect width=\"100%\" height=\"100%\" fill=\"black\"/>\n",
              "        <line x1=\"400.0\" y1=\"150.0\" x2=\"500.0\" y2=\"150.0\" stroke-linecap=\"round\" style=\"stroke:#ff0000;stroke-width:4\"/><line x1=\"500.0\" y1=\"150.0\" x2=\"300.0\" y2=\"150.0\" stroke-linecap=\"round\" style=\"stroke:#ff0000;stroke-width:4\"/><line x1=\"300.0\" y1=\"150.0\" x2=\"300.0\" y2=\"430.0\" stroke-linecap=\"round\" style=\"stroke:#ff0000;stroke-width:4\"/><line x1=\"300.0\" y1=\"430.0\" x2=\"500.0\" y2=\"430.0\" stroke-linecap=\"round\" style=\"stroke:#ff0000;stroke-width:4\"/><line x1=\"500.0\" y1=\"430.0\" x2=\"500.0\" y2=\"150.0\" stroke-linecap=\"round\" style=\"stroke:#ff0000;stroke-width:4\"/><line x1=\"500.0\" y1=\"150.0\" x2=\"520.0\" y2=\"150.0\" stroke-linecap=\"round\" style=\"stroke:#ff0000;stroke-width:4\"/><line x1=\"520.0\" y1=\"150.0\" x2=\"520.0\" y2=\"110.0\" stroke-linecap=\"round\" style=\"stroke:#ff0000;stroke-width:4\"/><line x1=\"520.0\" y1=\"110.0\" x2=\"440.0\" y2=\"110.0\" stroke-linecap=\"round\" style=\"stroke:#ff0000;stroke-width:4\"/><line x1=\"440.0\" y1=\"110.0\" x2=\"440.0\" y2=\"90.0\" stroke-linecap=\"round\" style=\"stroke:#ffd700;stroke-width:4\"/><line x1=\"440.0\" y1=\"90.0\" x2=\"360.0\" y2=\"90.0\" stroke-linecap=\"round\" style=\"stroke:#ffd700;stroke-width:4\"/><line x1=\"360.0\" y1=\"90.0\" x2=\"360.0\" y2=\"110.0\" stroke-linecap=\"round\" style=\"stroke:#ffd700;stroke-width:4\"/><line x1=\"360.0\" y1=\"110.0\" x2=\"440.0\" y2=\"110.0\" stroke-linecap=\"round\" style=\"stroke:#ff0000;stroke-width:4\"/><line x1=\"440.0\" y1=\"110.0\" x2=\"280.0\" y2=\"110.0\" stroke-linecap=\"round\" style=\"stroke:#ff0000;stroke-width:4\"/><line x1=\"280.0\" y1=\"110.0\" x2=\"280.0\" y2=\"150.0\" stroke-linecap=\"round\" style=\"stroke:#ff0000;stroke-width:4\"/><line x1=\"280.0\" y1=\"150.0\" x2=\"390.0\" y2=\"150.0\" stroke-linecap=\"round\" style=\"stroke:#ff0000;stroke-width:4\"/><line x1=\"390.0\" y1=\"150.0\" x2=\"390.0\" y2=\"430.0\" stroke-linecap=\"round\" style=\"stroke:#ffd700;stroke-width:4\"/><line x1=\"390.0\" y1=\"430.0\" x2=\"410.0\" y2=\"430.0\" stroke-linecap=\"round\" style=\"stroke:#ffd700;stroke-width:4\"/><line x1=\"410.0\" y1=\"430.0\" x2=\"410.0\" y2=\"150.0\" stroke-linecap=\"round\" style=\"stroke:#ffd700;stroke-width:4\"/>\n",
              "        <g visibility=visible transform=\"rotate(360,410.0,150.0) translate(392.0, 132.0)\">\n",
              "<path style=\" stroke:none;fill-rule:evenodd;fill:#ffd700;fill-opacity:1;\" d=\"M 18.214844 0.632812 C 16.109375 1.800781 15.011719 4.074219 15.074219 7.132812 L 15.085938 7.652344 L 14.785156 7.496094 C 13.476562 6.824219 11.957031 6.671875 10.40625 7.066406 C 8.46875 7.550781 6.515625 9.15625 4.394531 11.992188 C 3.0625 13.777344 2.679688 14.636719 3.042969 15.027344 L 3.15625 15.152344 L 3.519531 15.152344 C 4.238281 15.152344 4.828125 14.886719 8.1875 13.039062 C 9.386719 12.378906 10.371094 11.839844 10.378906 11.839844 C 10.386719 11.839844 10.355469 11.929688 10.304688 12.035156 C 9.832031 13.09375 9.257812 14.820312 8.96875 16.078125 C 7.914062 20.652344 8.617188 24.53125 11.070312 27.660156 C 11.351562 28.015625 11.363281 27.914062 10.972656 28.382812 C 8.925781 30.84375 7.945312 33.28125 8.238281 35.1875 C 8.289062 35.527344 8.28125 35.523438 8.917969 35.523438 C 10.941406 35.523438 13.074219 34.207031 15.136719 31.6875 C 15.359375 31.417969 15.328125 31.425781 15.5625 31.574219 C 16.292969 32.042969 18.023438 32.964844 18.175781 32.964844 C 18.335938 32.964844 19.941406 32.210938 20.828125 31.71875 C 20.996094 31.625 21.136719 31.554688 21.136719 31.558594 C 21.203125 31.664062 21.898438 32.414062 22.222656 32.730469 C 23.835938 34.300781 25.5625 35.132812 27.582031 35.300781 C 27.90625 35.328125 27.9375 35.308594 28.007812 34.984375 C 28.382812 33.242188 27.625 30.925781 25.863281 28.425781 L 25.542969 27.96875 L 25.699219 27.785156 C 28.945312 23.960938 29.132812 18.699219 26.257812 11.96875 L 26.207031 11.84375 L 27.945312 12.703125 C 31.53125 14.476562 32.316406 14.800781 33.03125 14.800781 C 33.976562 14.800781 33.78125 13.9375 32.472656 12.292969 C 28.519531 7.355469 25.394531 5.925781 21.921875 7.472656 L 21.558594 7.636719 L 21.578125 7.542969 C 21.699219 6.992188 21.761719 5.742188 21.699219 5.164062 C 21.496094 3.296875 20.664062 1.964844 19.003906 0.855469 C 18.480469 0.503906 18.457031 0.5 18.214844 0.632812\"/>\n",
              "</g>\n",
              "      </svg>\n",
              "    "
            ]
          },
          "metadata": {}
        }
      ]
    },
    {
      "cell_type": "code",
      "source": [],
      "metadata": {
        "id": "BO_EZfpYeRzg"
      },
      "execution_count": null,
      "outputs": []
    },
    {
      "cell_type": "markdown",
      "source": [
        "# Aula 26/03/2024 (IF)"
      ],
      "metadata": {
        "id": "BosuW2BKeP2r"
      }
    },
    {
      "cell_type": "markdown",
      "source": [
        "Estrutura do If em Python:"
      ],
      "metadata": {
        "id": "kWMQj7XTegL7"
      }
    },
    {
      "cell_type": "code",
      "source": [
        "#Entradas\n",
        "a = int(input(\"Digite o primeiro valor: \"))\n",
        "b = int(input(\"Digite o segundo valor: \"))\n",
        "\n",
        "#Saídas\n",
        "if a>b :\n",
        "    print(\"O primeiro número é maior\")\n",
        "if b>a :\n",
        "    print(\"O segundo número é maior\")\n",
        "if b==a :\n",
        "    print(\"OS dois números são iguais\")"
      ],
      "metadata": {
        "colab": {
          "base_uri": "https://localhost:8080/"
        },
        "id": "yQcSt1zueezA",
        "outputId": "c1c52e15-2b03-4981-bd27-b7ca1aec5ea6"
      },
      "execution_count": null,
      "outputs": [
        {
          "output_type": "stream",
          "name": "stdout",
          "text": [
            "Digite o primeiro valor: 4\n",
            "Digite o segundo valor: 4\n",
            "OS dois números são iguais\n"
          ]
        }
      ]
    },
    {
      "cell_type": "code",
      "source": [
        "a = int(input(\"Digite o primeiro valor: \"))\n",
        "\n",
        "if a>0 :\n",
        "    print(\"O número é positivo\")\n",
        "if a == 0 :\n",
        "    print(\"a é igual a 0\")\n",
        "if a<0:\n",
        "    print(\"O número é negativo\")"
      ],
      "metadata": {
        "colab": {
          "base_uri": "https://localhost:8080/"
        },
        "outputId": "61cdd85c-ce2a-4a09-a044-92618e488cba",
        "id": "62eq70Ypip3G"
      },
      "execution_count": null,
      "outputs": [
        {
          "output_type": "stream",
          "name": "stdout",
          "text": [
            "Digite o primeiro valor: -9\n",
            "O número é negativo\n"
          ]
        }
      ]
    },
    {
      "cell_type": "code",
      "source": [
        "#Declarar constantes\n",
        "LIMITE_VELOCIDADE = 80\n",
        "#declarar variáveis\n",
        "velocidade = float(input(\"Qual a sua velocidade? \"))\n",
        "\n",
        "#saidas de dados\n",
        "if velocidade > LIMITE_VELOCIDADE :\n",
        "    multa = (velocidade - LIMITE_VELOCIDADE)*5\n",
        "    print(f\"Você ultrapassou o limite de velocidade, sua multa está no valor de R${multa}\")\n",
        "else :\n",
        "    print(\"Você está dentro do limite de velocidade, tenha uma boa viagem!\")"
      ],
      "metadata": {
        "colab": {
          "base_uri": "https://localhost:8080/"
        },
        "id": "4PEokOl6uQ_j",
        "outputId": "ce458edb-0ee1-40ca-f1c3-c50ba1af4b3e"
      },
      "execution_count": null,
      "outputs": [
        {
          "name": "stdout",
          "output_type": "stream",
          "text": [
            "Qual a sua velocidade? 78\n"
          ]
        }
      ]
    },
    {
      "cell_type": "code",
      "source": [
        "minutos_usados = float(input(\"Quantos minutos você usou de telefone esse mês? \"))\n",
        "\n",
        "if minutos_usados < 200 :\n",
        "    valor_cobranca = 0.20*minutos_usados\n",
        "else :\n",
        "    if minutos_usados > 200 and minutos_usados <= 400 :\n",
        "        valor_cobranca = 0.18*minutos_usados\n",
        "    else :\n",
        "        valor_cobranca = 0.15*minutos_usados\n",
        "\n",
        "print(f\"O valor da sua conta telefonica este mês é de R${str(valor_cobranca)}\")"
      ],
      "metadata": {
        "colab": {
          "base_uri": "https://localhost:8080/"
        },
        "id": "0dvlg1Dd1ryc",
        "outputId": "4f494e37-dbec-493e-99da-0f91ff5b29ea"
      },
      "execution_count": null,
      "outputs": [
        {
          "output_type": "stream",
          "name": "stdout",
          "text": [
            "Quantos minutos você usou de telefone esse mês? 250\n",
            "O valor da sua conta telefonica este mês é de R$45.0\n"
          ]
        }
      ]
    }
  ]
}